{
  "nbformat": 4,
  "nbformat_minor": 0,
  "metadata": {
    "colab": {
      "provenance": []
    },
    "kernelspec": {
      "name": "python3",
      "display_name": "Python 3"
    },
    "language_info": {
      "name": "python"
    },
    "gpuClass": "standard",
    "accelerator": "GPU"
  },
  "cells": [
    {
      "cell_type": "code",
      "source": [
        "# установка библиотеки, необходимой для декодирования CTC-loss в разделе с LSTM\n",
        "\n",
        "import os\n",
        "os.chdir('/content/')\n",
        "!git clone --recursive https://github.com/parlance/ctcdecode.git\n",
        "os.chdir('/content/ctcdecode/')\n",
        "!pip install ."
      ],
      "metadata": {
        "id": "UK5q53zUPuPW",
        "colab": {
          "base_uri": "https://localhost:8080/"
        },
        "outputId": "8d5121ce-532f-4f55-9872-71078acda9be"
      },
      "execution_count": 1,
      "outputs": [
        {
          "output_type": "stream",
          "name": "stdout",
          "text": [
            "Cloning into 'ctcdecode'...\n",
            "remote: Enumerating objects: 1102, done.\u001b[K\n",
            "remote: Counting objects: 100% (39/39), done.\u001b[K\n",
            "remote: Compressing objects: 100% (25/25), done.\u001b[K\n",
            "remote: Total 1102 (delta 16), reused 32 (delta 14), pack-reused 1063\u001b[K\n",
            "Receiving objects: 100% (1102/1102), 782.27 KiB | 15.34 MiB/s, done.\n",
            "Resolving deltas: 100% (529/529), done.\n",
            "Submodule 'third_party/ThreadPool' (https://github.com/progschj/ThreadPool.git) registered for path 'third_party/ThreadPool'\n",
            "Submodule 'third_party/kenlm' (https://github.com/kpu/kenlm.git) registered for path 'third_party/kenlm'\n",
            "Cloning into '/content/ctcdecode/third_party/ThreadPool'...\n",
            "remote: Enumerating objects: 82, done.        \n",
            "remote: Total 82 (delta 0), reused 0 (delta 0), pack-reused 82        \n",
            "Cloning into '/content/ctcdecode/third_party/kenlm'...\n",
            "remote: Enumerating objects: 14147, done.        \n",
            "remote: Counting objects: 100% (460/460), done.        \n",
            "remote: Compressing objects: 100% (320/320), done.        \n",
            "remote: Total 14147 (delta 152), reused 398 (delta 126), pack-reused 13687        \n",
            "Receiving objects: 100% (14147/14147), 5.91 MiB | 15.16 MiB/s, done.\n",
            "Resolving deltas: 100% (8032/8032), done.\n",
            "Submodule path 'third_party/ThreadPool': checked out '9a42ec1329f259a5f4881a291db1dcb8f2ad9040'\n",
            "Submodule path 'third_party/kenlm': checked out '35835f1ac4884126458ac89f9bf6dd9ccad561e0'\n",
            "Looking in indexes: https://pypi.org/simple, https://us-python.pkg.dev/colab-wheels/public/simple/\n",
            "Processing /content/ctcdecode\n",
            "  Preparing metadata (setup.py) ... \u001b[?25l\u001b[?25hdone\n",
            "Building wheels for collected packages: ctcdecode\n",
            "  Building wheel for ctcdecode (setup.py) ... \u001b[?25l\u001b[?25hdone\n",
            "  Created wheel for ctcdecode: filename=ctcdecode-1.0.3-cp310-cp310-linux_x86_64.whl size=19394951 sha256=f2b1aa2b06540d6fb095490a7f9a6a789303f36b34f81d4549677a3f3c997632\n",
            "  Stored in directory: /tmp/pip-ephem-wheel-cache-b3mm792a/wheels/11/99/36/d6e51fb7936a52f358678eb23a757c096f223ba07f98790e52\n",
            "Successfully built ctcdecode\n",
            "Installing collected packages: ctcdecode\n",
            "Successfully installed ctcdecode-1.0.3\n"
          ]
        }
      ]
    },
    {
      "cell_type": "code",
      "source": [
        "os.chdir('/content/')\n",
        "!wget https://github.com/avyuga/captcha_recognition/raw/main/captcha.zip\n"
      ],
      "metadata": {
        "id": "YNVkmtDCVQx5",
        "colab": {
          "base_uri": "https://localhost:8080/"
        },
        "outputId": "b6ce4b1a-faf1-4bc0-ec1a-94b96627766c"
      },
      "execution_count": 5,
      "outputs": [
        {
          "output_type": "stream",
          "name": "stdout",
          "text": [
            "--2023-05-26 07:31:04--  https://github.com/avyuga/captcha_recognition/raw/main/captcha.zip\n",
            "Resolving github.com (github.com)... 192.30.255.113\n",
            "Connecting to github.com (github.com)|192.30.255.113|:443... connected.\n",
            "HTTP request sent, awaiting response... 302 Found\n",
            "Location: https://raw.githubusercontent.com/avyuga/captcha_recognition/main/captcha.zip [following]\n",
            "--2023-05-26 07:31:04--  https://raw.githubusercontent.com/avyuga/captcha_recognition/main/captcha.zip\n",
            "Resolving raw.githubusercontent.com (raw.githubusercontent.com)... 185.199.108.133, 185.199.109.133, 185.199.110.133, ...\n",
            "Connecting to raw.githubusercontent.com (raw.githubusercontent.com)|185.199.108.133|:443... connected.\n",
            "HTTP request sent, awaiting response... 200 OK\n",
            "Length: 9127102 (8.7M) [application/zip]\n",
            "Saving to: ‘captcha.zip’\n",
            "\n",
            "captcha.zip         100%[===================>]   8.70M  --.-KB/s    in 0.1s    \n",
            "\n",
            "2023-05-26 07:31:05 (79.3 MB/s) - ‘captcha.zip’ saved [9127102/9127102]\n",
            "\n"
          ]
        }
      ]
    },
    {
      "cell_type": "code",
      "source": [
        "# извлекаем файл\n",
        "import os \n",
        "from zipfile import ZipFile\n",
        "\n",
        "with ZipFile('/content/captcha.zip', 'r') as zipObj:\n",
        "   zipObj.extractall('/content/')\n",
        "\n",
        "os.chdir('/content/captcha/')"
      ],
      "metadata": {
        "id": "-uOSAcfAEYSo"
      },
      "execution_count": 6,
      "outputs": []
    },
    {
      "cell_type": "code",
      "source": [
        "import numpy as np\n",
        "from torch.utils.data import Dataset\n",
        "from torchvision.io import read_image\n",
        "\n",
        "from pathlib import Path\n",
        "\n",
        "from sklearn.model_selection import train_test_split\n",
        "\n",
        "import torch\n",
        "import torch.nn as nn\n",
        "import torch.nn.functional as F\n",
        "import torch.optim as optim\n",
        "from torch.utils.data import DataLoader\n",
        "from torch.utils.data import Subset\n",
        "from torchvision.io import ImageReadMode\n",
        "from torchvision import transforms\n",
        "\n",
        "import cv2\n",
        "from tqdm import tqdm \n",
        "\n",
        "import matplotlib.pyplot as plt"
      ],
      "metadata": {
        "id": "jiH7ah0wYAi3"
      },
      "execution_count": 7,
      "outputs": []
    },
    {
      "cell_type": "code",
      "source": [
        "from ctcdecode import CTCBeamDecoder"
      ],
      "metadata": {
        "id": "hQgiRdMwY6E0"
      },
      "execution_count": 8,
      "outputs": []
    },
    {
      "cell_type": "code",
      "source": [
        "USE_GPU = True\n",
        "dtype = torch.float32\n",
        "\n",
        "if USE_GPU and torch.cuda.is_available():\n",
        "    device = torch.device('cuda')\n",
        "else:\n",
        "    device = torch.device('cpu')\n",
        "\n",
        "print('using device:', device)"
      ],
      "metadata": {
        "colab": {
          "base_uri": "https://localhost:8080/"
        },
        "id": "fOh788FgVmnc",
        "outputId": "a24d5ba9-2880-439b-fcfa-e2df37d83eaa"
      },
      "execution_count": 9,
      "outputs": [
        {
          "output_type": "stream",
          "name": "stdout",
          "text": [
            "using device: cuda\n"
          ]
        }
      ]
    },
    {
      "cell_type": "code",
      "source": [
        "# список и словарь из символов, которые будут использоваться далее\n",
        "vocabulary = ['2','3','4','5','6','7','8','b','c','d','e','f','g','m','n','p','w','x','y']\n",
        "char2num = {'2':0,'3':1,'4':2,'5':3,'6':4,'7':5,'8':6,'b':7,'c':8,'d':9,'e':10,'f':11,'g':12,'m':13,'n':14,'p':15,'w':16,'x':17,'y':18}"
      ],
      "metadata": {
        "id": "K6s3-MP4hjwz"
      },
      "execution_count": 10,
      "outputs": []
    },
    {
      "cell_type": "markdown",
      "source": [
        "## Подготовка данных"
      ],
      "metadata": {
        "id": "IYypLvP0KfEP"
      }
    },
    {
      "cell_type": "code",
      "source": [
        "cwd = Path.cwd()\n",
        "labels = []\n",
        "for item in cwd.iterdir():\n",
        "    labels += [item.stem]\n",
        "print(f\"Number of objects: {len(labels)}\")"
      ],
      "metadata": {
        "colab": {
          "base_uri": "https://localhost:8080/"
        },
        "id": "GnNh2LXKWx0k",
        "outputId": "6c1f86e8-004f-46dd-b4ff-a1f9112e232c"
      },
      "execution_count": 11,
      "outputs": [
        {
          "output_type": "stream",
          "name": "stdout",
          "text": [
            "Number of objects: 1070\n"
          ]
        }
      ]
    },
    {
      "cell_type": "code",
      "source": [
        "# так как часть файлов в формате .jpg, то удобно перевести в формат .png для единообразия\n",
        "for item in cwd.iterdir():\n",
        "    item.rename(item.with_suffix('.png'))\n",
        "\n",
        "img = cv2.imread(str(item))\n",
        "print(img.shape)"
      ],
      "metadata": {
        "id": "jht94ADiZTCj",
        "colab": {
          "base_uri": "https://localhost:8080/"
        },
        "outputId": "64516ff7-4a4b-43c7-d47e-4b56f6ae886a"
      },
      "execution_count": 12,
      "outputs": [
        {
          "output_type": "stream",
          "name": "stdout",
          "text": [
            "(50, 200, 3)\n"
          ]
        }
      ]
    },
    {
      "cell_type": "markdown",
      "source": [
        "Создаем класс `captcha_dataset`, наследуемый от `torch.utils.data.Dataset`, который загружает изображения в объект и применяет трансформации. Для корректной работы алгоритмов нужно обрезать края, содержащие фон.\n"
      ],
      "metadata": {
        "id": "6LpzoKbnLwT-"
      }
    },
    {
      "cell_type": "code",
      "source": [
        "class captcha_dataset(Dataset):\n",
        "    def __init__(self, labels_txt):\n",
        "        self.labels_txt = labels_txt\n",
        "        self.transform = True\n",
        "\n",
        "    def __len__(self):\n",
        "        return len(self.labels)\n",
        "\n",
        "    def __getitem__(self, idx):\n",
        "        label = self.labels_txt[idx]\n",
        "        img_path = f\"{label}.png\"\n",
        "        image = read_image(img_path, ImageReadMode.RGB)\n",
        "        label_num = list(map(lambda l: char2num[l], list(label)))\n",
        "        if self.transform:\n",
        "            image = transforms.functional.crop(image, 0, 25, 50, 125)\n",
        "            image = image.type(torch.float32)\n",
        "            image = transforms.functional.resize(image, size=(50,200), antialias=False)\n",
        "            image = transforms.functional.normalize(image, (128, 128, 128), (255, 255, 255))\n",
        "            # image = self.transform(image)\n",
        "        return image, label_num"
      ],
      "metadata": {
        "id": "H9e9zKUdUuqi"
      },
      "execution_count": 15,
      "outputs": []
    },
    {
      "cell_type": "code",
      "source": [
        "full_dataset = captcha_dataset(labels_txt=labels)\n",
        "train_idx_set, test_idx_set = train_test_split(\n",
        "    np.arange(len(labels)), test_size=0.3, random_state=42, shuffle=True)\n",
        "\n",
        "train_dataset = Subset(full_dataset, train_idx_set)\n",
        "test_dataset = Subset(full_dataset, test_idx_set)\n"
      ],
      "metadata": {
        "id": "WqHVMdBSX4S-"
      },
      "execution_count": 16,
      "outputs": []
    },
    {
      "cell_type": "markdown",
      "source": [
        "Сравнение исходного и обрезанного изображения:"
      ],
      "metadata": {
        "id": "GWhPUtU6N7Jr"
      }
    },
    {
      "cell_type": "code",
      "source": [
        "figure, axes = plt.subplots(1, 2, figsize=(5,3), constrained_layout=True)\n",
        "sample_idx = np.random.randint(len(labels), size=1)\n",
        "img, label_num = full_dataset[int(sample_idx)]\n",
        "label_list = list(map(lambda l: vocabulary[l], list(label_num)))\n",
        "label = \"\".join(label_list) \n",
        "img_not_cropped = cv2.imread(f\"{label}.png\", cv2.IMREAD_UNCHANGED)\n",
        "\n",
        "axes[0].imshow(img_not_cropped, cmap='gray')\n",
        "axes[1].imshow((img.permute([1, 2, 0])+0.5).numpy().clip(0,1), cmap=\"gray\")\n",
        "\n",
        "axes[0].axis(\"off\")\n",
        "axes[1].axis(\"off\")\n",
        "\n",
        "axes[0].set_title(\"Not cropped\")\n",
        "axes[1].set_title(\"Cropped\")\n",
        "figure.suptitle(label, fontsize=16, y=0.75)\n",
        "\n",
        "plt.show()"
      ],
      "metadata": {
        "colab": {
          "base_uri": "https://localhost:8080/",
          "height": 142
        },
        "id": "yUGgfoKLBJ0p",
        "outputId": "c9dba168-76ea-4020-b5b9-0de35a7280ad"
      },
      "execution_count": 17,
      "outputs": [
        {
          "output_type": "display_data",
          "data": {
            "text/plain": [
              "<Figure size 500x300 with 2 Axes>"
            ],
            "image/png": "[encoded data removed]"
          },
          "metadata": {}
        }
      ]
    },
    {
      "cell_type": "markdown",
      "source": [
        "Больше примеров изображений:"
      ],
      "metadata": {
        "id": "ZVWS1mPaOAEK"
      }
    },
    {
      "cell_type": "code",
      "source": [
        "figure, axes = plt.subplots(3, 3, figsize=(5,3))\n",
        "for i in range(0, 3 * 3):\n",
        "    sample_idx = torch.randint(len(train_dataset), size=(1,)).item()\n",
        "    img, label_num = train_dataset[sample_idx]\n",
        "    label_list = list(map(lambda l: vocabulary[l], list(label_num)))\n",
        "    label = \"\".join(label_list) \n",
        "    axes[i//3, i%3].imshow((img.permute([1, 2, 0])+0.5).numpy().clip(0,1), cmap=\"gray\")\n",
        "    axes[i//3, i%3].set_title(str(label))\n",
        "    axes[i//3, i%3].axis(\"off\")\n",
        "plt.show()"
      ],
      "metadata": {
        "colab": {
          "base_uri": "https://localhost:8080/",
          "height": 250
        },
        "id": "zZNQip_3AEZa",
        "outputId": "6a9a6722-46a8-4893-9e8a-0639b5d1abf2"
      },
      "execution_count": 18,
      "outputs": [
        {
          "output_type": "display_data",
          "data": {
            "text/plain": [
              "<Figure size 500x300 with 9 Axes>"
            ],
            "image/png": "[encoded data removed]"
          },
          "metadata": {}
        }
      ]
    },
    {
      "cell_type": "markdown",
      "source": [
        "## Вспомогательные классы и функции\n",
        "Необходимы для удобного подсчета средней потери и точности за батч, а также для логгирования"
      ],
      "metadata": {
        "id": "i83MBNiEFrZ1"
      }
    },
    {
      "cell_type": "code",
      "source": [
        "class ValueMeter(object):\n",
        "  \"\"\"\n",
        "  Вспомогательный класс, чтобы отслеживать loss и метрику\n",
        "  \"\"\"\n",
        "  def __init__(self):\n",
        "      self.sum = 0\n",
        "      self.total = 0\n",
        "\n",
        "  def add(self, value, n):\n",
        "      self.sum += value*n\n",
        "      self.total += n\n",
        "\n",
        "  def value(self):\n",
        "      return self.sum/self.total"
      ],
      "metadata": {
        "id": "5DtVvpBvK1Mo"
      },
      "execution_count": 19,
      "outputs": []
    },
    {
      "cell_type": "code",
      "source": [
        "def log(mode, epoch, loss_meter=None, accuracy_meter=None):\n",
        "    line = f\"[{mode}] Epoch: {(epoch+1):d}\"\n",
        "    if loss_meter:\n",
        "        loss_line = f\" ==== Loss: {loss_meter.value():.5f}\"\n",
        "        line += loss_line\n",
        "    if accuracy_meter:\n",
        "        acc_line = f\" ==== Accuracy: {accuracy_meter.value():.5f}\"\n",
        "        line += acc_line\n",
        "    print(line)\n",
        "    "
      ],
      "metadata": {
        "id": "lw3kaOMVLT1X"
      },
      "execution_count": 20,
      "outputs": []
    },
    {
      "cell_type": "markdown",
      "source": [
        "## CNN"
      ],
      "metadata": {
        "id": "R2vd_5JfFxUA"
      }
    },
    {
      "cell_type": "markdown",
      "source": [
        "Первый способ решения поставленной задачи - сверточная нейронная сеть. Для распознавания каптчи достаточно простейшей архитектуры, состоящей из двух сверточных блоков, которые могут также иметь нормализацию или Dropout, а затем линейный блок. У линейного блока вывод многомерный, так как для каждой из 5 букв 19 вариантов.\n",
        "\n",
        "В качестве потери используется `CrossEntropyLoss`, а точность считается как среднее число верно предсказанных букв на батч."
      ],
      "metadata": {
        "id": "m3Nz5odCOo6y"
      }
    },
    {
      "cell_type": "code",
      "source": [
        "def accuracy_cnn(outputs, labels):\n",
        "    labels = torch.argmax(labels, dim=2)\n",
        "    preds = torch.argmax(outputs, dim=2)\n",
        "    return torch.tensor(torch.sum(preds == labels).item() / (preds.size()[0]*preds.size()[1]))\n"
      ],
      "metadata": {
        "id": "qD7n7ZRQI8oc"
      },
      "execution_count": 21,
      "outputs": []
    },
    {
      "cell_type": "code",
      "source": [
        "class CNN_model(nn.Module):\n",
        "    def __init__(self, params):\n",
        "        super().__init__()\n",
        "\n",
        "        self.conv1 = nn.Conv2d(3, 32, kernel_size=(3,3), padding=1)\n",
        "        nn.init.xavier_normal_(self.conv1.weight)\n",
        "        self.conv2 = nn.Conv2d(32, 64, kernel_size=(3,3), padding=1)\n",
        "        nn.init.xavier_normal_(self.conv2.weight)\n",
        "\n",
        "        self.pool = nn.MaxPool2d(kernel_size=(2, 2))\n",
        "\n",
        "        self.batch1 = nn.BatchNorm2d(32)\n",
        "        self.batch2 = nn.BatchNorm2d(64)\n",
        "\n",
        "        self.linear1 = nn.Linear(64*12*10, 64, bias=False)\n",
        "        nn.init.xavier_normal_(self.linear1.weight)\n",
        "        self.linear2 = nn.Linear(64, 19, bias=False)\n",
        "        nn.init.xavier_normal_(self.linear2.weight)        \n",
        "\n",
        "        if 'is_batchnorm' in params.keys():\n",
        "            self.is_batchnorm = params['is_batchnorm']\n",
        "        if 'is_dropout' in params.keys():\n",
        "            self.is_dropout = params['is_dropout']\n",
        "            self.dropout_coeffs = [0.5, 0.5]\n",
        "            if 'dropout_coeffs' in params.keys():\n",
        "                self.dropout_coeffs = params['dropout_coeffs']\n",
        "   \n",
        "    def forward(self, x):\n",
        "        x = self.conv1(x)\n",
        "        x = F.relu(x)\n",
        "        if self.is_batchnorm:\n",
        "            x = self.batch1(x)\n",
        "        x = self.pool(x)\n",
        "        if self.is_dropout:\n",
        "            x = nn.Dropout(p=self.dropout_coeffs[0])(x)\n",
        "\n",
        "\n",
        "        x = self.conv2(x)\n",
        "        x = F.relu(x)\n",
        "        if self.is_batchnorm:\n",
        "            x = self.batch2(x)\n",
        "        x = self.pool(x)\n",
        "        if self.is_dropout:\n",
        "            x = nn.Dropout(p=self.dropout_coeffs[1])(x)\n",
        "        \n",
        "        N = x.shape[0]\n",
        "        x = x.permute(0, 3, 2, 1)\n",
        "        x = x.reshape(N, 5, -1)\n",
        "\n",
        "        x = self.linear1(x)\n",
        "        x = F.relu(x)\n",
        "        scores = self.linear2(x)\n",
        "\n",
        "        return scores\n"
      ],
      "metadata": {
        "id": "Rp5fFCvBI0pR"
      },
      "execution_count": 22,
      "outputs": []
    },
    {
      "cell_type": "code",
      "source": [
        "def train_test_cnn(model, loaders, optimizer, criterion, epochs=1):\n",
        "    model = model.to(device)\n",
        "\n",
        "    loss_meter = {'train': ValueMeter(), 'test': ValueMeter()}\n",
        "    accuracy_meter = {'train': ValueMeter(), 'test': ValueMeter()}\n",
        "\n",
        "    loss_track = {'train': [], 'test': []}\n",
        "    accuracy_track = {'train': [], 'test': []}\n",
        "\n",
        "    for epoch in range(epochs):\n",
        "        for mode in ['train', 'test']:\n",
        "            with torch.set_grad_enabled(mode == 'train'):\n",
        "                model.train() if mode == 'train' else model.eval()\n",
        "                for x, y in tqdm(loaders[mode]):\n",
        "                    x = x.to(device, dtype=dtype)  # move to device, e.g. GPU\n",
        "                \n",
        "                    y = torch.stack(y, dim=1).to(device, dtype=torch.long)\n",
        "                    scores = model(x)\n",
        "                    groundtruth_probs = torch.zeros(scores.size())\n",
        "                    groundtruth_probs[torch.arange(y.size()[0])[:, None], torch.arange(y.size()[1])[None, :], y] = 1\n",
        "                    groundtruth_probs = groundtruth_probs.to(device, dtype=torch.float)\n",
        "                    \n",
        "                    loss = criterion(scores.permute([0, 2, 1]), y)\n",
        "\n",
        "                    acc = accuracy_cnn(scores, groundtruth_probs)\n",
        "\n",
        "                    if mode == 'train':\n",
        "                        optimizer.zero_grad()\n",
        "                        loss.backward()\n",
        "                        optimizer.step()\n",
        "\n",
        "                    batch_size = y.shape[0]\n",
        "\n",
        "                    loss_meter[mode].add(loss.item(), batch_size)\n",
        "                    accuracy_meter[mode].add(acc.item(), batch_size)\n",
        "\n",
        "            log(mode, epoch, loss_meter=loss_meter[mode], accuracy_meter=accuracy_meter[mode])\n",
        "\n",
        "            loss_track[mode].append(loss_meter[mode].value())\n",
        "            accuracy_track[mode].append(accuracy_meter[mode].value())\n",
        "\n",
        "    return {'loss': loss_track, 'accuracy': accuracy_track}"
      ],
      "metadata": {
        "id": "xXF388utggXB"
      },
      "execution_count": 23,
      "outputs": []
    },
    {
      "cell_type": "code",
      "source": [
        "loader_train = DataLoader(train_dataset, batch_size=8, shuffle=True)\n",
        "loader_test = DataLoader(test_dataset, batch_size=8, shuffle=False)\n",
        "\n",
        "loaders = {'train': loader_train, 'test': loader_test}"
      ],
      "metadata": {
        "id": "PL74A6Tf3bFa"
      },
      "execution_count": 24,
      "outputs": []
    },
    {
      "cell_type": "markdown",
      "source": [
        "Сравним два варианта сверточной сети: первый - без применения нормализации и слоев Dropout, второй - с ними."
      ],
      "metadata": {
        "id": "mgKhz3KBPWfo"
      }
    },
    {
      "cell_type": "code",
      "source": [
        "params = {'is_batchnorm': False, 'is_dropout': False}\n",
        "model = CNN_model(params)\n",
        "print(model)\n",
        "\n",
        "criterion = nn.CrossEntropyLoss(reduction='mean')\n",
        "optimizer = optim.Adam(model.parameters(), lr=1e-3)\n",
        "epochs = 50\n",
        "\n",
        "tracks_simple = train_test_cnn(model, loaders, optimizer, criterion, epochs=epochs)"
      ],
      "metadata": {
        "colab": {
          "base_uri": "https://localhost:8080/"
        },
        "id": "VbVS4-UhPhaG",
        "outputId": "00ee6a89-3f33-476b-c9d1-fe02a8b3cb40"
      },
      "execution_count": 25,
      "outputs": [
        {
          "output_type": "stream",
          "name": "stdout",
          "text": [
            "CNN_model(\n",
            "  (conv1): Conv2d(3, 32, kernel_size=(3, 3), stride=(1, 1), padding=(1, 1))\n",
            "  (conv2): Conv2d(32, 64, kernel_size=(3, 3), stride=(1, 1), padding=(1, 1))\n",
            "  (pool): MaxPool2d(kernel_size=(2, 2), stride=(2, 2), padding=0, dilation=1, ceil_mode=False)\n",
            "  (batch1): BatchNorm2d(32, eps=1e-05, momentum=0.1, affine=True, track_running_stats=True)\n",
            "  (batch2): BatchNorm2d(64, eps=1e-05, momentum=0.1, affine=True, track_running_stats=True)\n",
            "  (linear1): Linear(in_features=7680, out_features=64, bias=False)\n",
            "  (linear2): Linear(in_features=64, out_features=19, bias=False)\n",
            ")\n"
          ]
        },
        {
          "output_type": "stream",
          "name": "stderr",
          "text": [
            "100%|██████████| 94/94 [00:08<00:00, 10.45it/s]\n"
          ]
        },
        {
          "output_type": "stream",
          "name": "stdout",
          "text": [
            "[train] Epoch: 1 ==== Loss: 1.71232 ==== Accuracy: 0.47690\n"
          ]
        },
        {
          "output_type": "stream",
          "name": "stderr",
          "text": [
            "100%|██████████| 41/41 [00:00<00:00, 85.01it/s]\n"
          ]
        },
        {
          "output_type": "stream",
          "name": "stdout",
          "text": [
            "[test] Epoch: 1 ==== Loss: 0.73787 ==== Accuracy: 0.78816\n"
          ]
        },
        {
          "output_type": "stream",
          "name": "stderr",
          "text": [
            "100%|██████████| 94/94 [00:01<00:00, 66.38it/s]\n"
          ]
        },
        {
          "output_type": "stream",
          "name": "stdout",
          "text": [
            "[train] Epoch: 2 ==== Loss: 1.13832 ==== Accuracy: 0.65474\n"
          ]
        },
        {
          "output_type": "stream",
          "name": "stderr",
          "text": [
            "100%|██████████| 41/41 [00:00<00:00, 97.81it/s] \n"
          ]
        },
        {
          "output_type": "stream",
          "name": "stdout",
          "text": [
            "[test] Epoch: 2 ==== Loss: 0.60533 ==== Accuracy: 0.82710\n"
          ]
        },
        {
          "output_type": "stream",
          "name": "stderr",
          "text": [
            "100%|██████████| 94/94 [00:01<00:00, 86.57it/s]\n"
          ]
        },
        {
          "output_type": "stream",
          "name": "stdout",
          "text": [
            "[train] Epoch: 3 ==== Loss: 0.87924 ==== Accuracy: 0.73280\n"
          ]
        },
        {
          "output_type": "stream",
          "name": "stderr",
          "text": [
            "100%|██████████| 41/41 [00:00<00:00, 119.78it/s]\n"
          ]
        },
        {
          "output_type": "stream",
          "name": "stdout",
          "text": [
            "[test] Epoch: 3 ==== Loss: 0.53590 ==== Accuracy: 0.84341\n"
          ]
        },
        {
          "output_type": "stream",
          "name": "stderr",
          "text": [
            "100%|██████████| 94/94 [00:01<00:00, 87.39it/s]\n"
          ]
        },
        {
          "output_type": "stream",
          "name": "stdout",
          "text": [
            "[train] Epoch: 4 ==== Loss: 0.71597 ==== Accuracy: 0.78231\n"
          ]
        },
        {
          "output_type": "stream",
          "name": "stderr",
          "text": [
            "100%|██████████| 41/41 [00:00<00:00, 123.17it/s]\n"
          ]
        },
        {
          "output_type": "stream",
          "name": "stdout",
          "text": [
            "[test] Epoch: 4 ==== Loss: 0.47962 ==== Accuracy: 0.85701\n"
          ]
        },
        {
          "output_type": "stream",
          "name": "stderr",
          "text": [
            "100%|██████████| 94/94 [00:01<00:00, 85.16it/s]\n"
          ]
        },
        {
          "output_type": "stream",
          "name": "stdout",
          "text": [
            "[train] Epoch: 5 ==== Loss: 0.60599 ==== Accuracy: 0.81597\n"
          ]
        },
        {
          "output_type": "stream",
          "name": "stderr",
          "text": [
            "100%|██████████| 41/41 [00:00<00:00, 87.91it/s]\n"
          ]
        },
        {
          "output_type": "stream",
          "name": "stdout",
          "text": [
            "[test] Epoch: 5 ==== Loss: 0.45326 ==== Accuracy: 0.86555\n"
          ]
        },
        {
          "output_type": "stream",
          "name": "stderr",
          "text": [
            "100%|██████████| 94/94 [00:01<00:00, 83.09it/s]\n"
          ]
        },
        {
          "output_type": "stream",
          "name": "stdout",
          "text": [
            "[train] Epoch: 6 ==== Loss: 0.52279 ==== Accuracy: 0.84085\n"
          ]
        },
        {
          "output_type": "stream",
          "name": "stderr",
          "text": [
            "100%|██████████| 41/41 [00:00<00:00, 120.00it/s]\n"
          ]
        },
        {
          "output_type": "stream",
          "name": "stdout",
          "text": [
            "[test] Epoch: 6 ==== Loss: 0.44526 ==== Accuracy: 0.86906\n"
          ]
        },
        {
          "output_type": "stream",
          "name": "stderr",
          "text": [
            "100%|██████████| 94/94 [00:01<00:00, 85.38it/s]\n"
          ]
        },
        {
          "output_type": "stream",
          "name": "stdout",
          "text": [
            "[train] Epoch: 7 ==== Loss: 0.45943 ==== Accuracy: 0.86000\n"
          ]
        },
        {
          "output_type": "stream",
          "name": "stderr",
          "text": [
            "100%|██████████| 41/41 [00:00<00:00, 117.62it/s]\n"
          ]
        },
        {
          "output_type": "stream",
          "name": "stdout",
          "text": [
            "[test] Epoch: 7 ==== Loss: 0.43808 ==== Accuracy: 0.87138\n"
          ]
        },
        {
          "output_type": "stream",
          "name": "stderr",
          "text": [
            "100%|██████████| 94/94 [00:01<00:00, 85.04it/s]\n"
          ]
        },
        {
          "output_type": "stream",
          "name": "stdout",
          "text": [
            "[train] Epoch: 8 ==== Loss: 0.40983 ==== Accuracy: 0.87503\n"
          ]
        },
        {
          "output_type": "stream",
          "name": "stderr",
          "text": [
            "100%|██████████| 41/41 [00:00<00:00, 116.91it/s]\n"
          ]
        },
        {
          "output_type": "stream",
          "name": "stdout",
          "text": [
            "[test] Epoch: 8 ==== Loss: 0.42809 ==== Accuracy: 0.87430\n"
          ]
        },
        {
          "output_type": "stream",
          "name": "stderr",
          "text": [
            "100%|██████████| 94/94 [00:01<00:00, 80.82it/s]\n"
          ]
        },
        {
          "output_type": "stream",
          "name": "stdout",
          "text": [
            "[train] Epoch: 9 ==== Loss: 0.36901 ==== Accuracy: 0.88744\n"
          ]
        },
        {
          "output_type": "stream",
          "name": "stderr",
          "text": [
            "100%|██████████| 41/41 [00:00<00:00, 84.99it/s]\n"
          ]
        },
        {
          "output_type": "stream",
          "name": "stdout",
          "text": [
            "[test] Epoch: 9 ==== Loss: 0.41923 ==== Accuracy: 0.87747\n"
          ]
        },
        {
          "output_type": "stream",
          "name": "stderr",
          "text": [
            "100%|██████████| 94/94 [00:01<00:00, 66.58it/s]\n"
          ]
        },
        {
          "output_type": "stream",
          "name": "stdout",
          "text": [
            "[train] Epoch: 10 ==== Loss: 0.33749 ==== Accuracy: 0.89688\n"
          ]
        },
        {
          "output_type": "stream",
          "name": "stderr",
          "text": [
            "100%|██████████| 41/41 [00:00<00:00, 84.66it/s]\n"
          ]
        },
        {
          "output_type": "stream",
          "name": "stdout",
          "text": [
            "[test] Epoch: 10 ==== Loss: 0.42209 ==== Accuracy: 0.87826\n"
          ]
        },
        {
          "output_type": "stream",
          "name": "stderr",
          "text": [
            "100%|██████████| 94/94 [00:01<00:00, 63.11it/s]\n"
          ]
        },
        {
          "output_type": "stream",
          "name": "stdout",
          "text": [
            "[train] Epoch: 11 ==== Loss: 0.31038 ==== Accuracy: 0.90513\n"
          ]
        },
        {
          "output_type": "stream",
          "name": "stderr",
          "text": [
            "100%|██████████| 41/41 [00:00<00:00, 115.48it/s]\n"
          ]
        },
        {
          "output_type": "stream",
          "name": "stdout",
          "text": [
            "[test] Epoch: 11 ==== Loss: 0.41366 ==== Accuracy: 0.88202\n"
          ]
        },
        {
          "output_type": "stream",
          "name": "stderr",
          "text": [
            "100%|██████████| 94/94 [00:01<00:00, 84.86it/s]\n"
          ]
        },
        {
          "output_type": "stream",
          "name": "stdout",
          "text": [
            "[train] Epoch: 12 ==== Loss: 0.28641 ==== Accuracy: 0.91242\n"
          ]
        },
        {
          "output_type": "stream",
          "name": "stderr",
          "text": [
            "100%|██████████| 41/41 [00:00<00:00, 114.24it/s]\n"
          ]
        },
        {
          "output_type": "stream",
          "name": "stdout",
          "text": [
            "[test] Epoch: 12 ==== Loss: 0.40914 ==== Accuracy: 0.88479\n"
          ]
        },
        {
          "output_type": "stream",
          "name": "stderr",
          "text": [
            "100%|██████████| 94/94 [00:01<00:00, 83.62it/s]\n"
          ]
        },
        {
          "output_type": "stream",
          "name": "stdout",
          "text": [
            "[train] Epoch: 13 ==== Loss: 0.26546 ==== Accuracy: 0.91876\n"
          ]
        },
        {
          "output_type": "stream",
          "name": "stderr",
          "text": [
            "100%|██████████| 41/41 [00:00<00:00, 115.64it/s]\n"
          ]
        },
        {
          "output_type": "stream",
          "name": "stdout",
          "text": [
            "[test] Epoch: 13 ==== Loss: 0.40470 ==== Accuracy: 0.88732\n"
          ]
        },
        {
          "output_type": "stream",
          "name": "stderr",
          "text": [
            "100%|██████████| 94/94 [00:01<00:00, 85.80it/s]\n"
          ]
        },
        {
          "output_type": "stream",
          "name": "stdout",
          "text": [
            "[train] Epoch: 14 ==== Loss: 0.24710 ==== Accuracy: 0.92439\n"
          ]
        },
        {
          "output_type": "stream",
          "name": "stderr",
          "text": [
            "100%|██████████| 41/41 [00:00<00:00, 115.41it/s]\n"
          ]
        },
        {
          "output_type": "stream",
          "name": "stdout",
          "text": [
            "[test] Epoch: 14 ==== Loss: 0.40206 ==== Accuracy: 0.88945\n"
          ]
        },
        {
          "output_type": "stream",
          "name": "stderr",
          "text": [
            "100%|██████████| 94/94 [00:01<00:00, 84.84it/s]\n"
          ]
        },
        {
          "output_type": "stream",
          "name": "stdout",
          "text": [
            "[train] Epoch: 15 ==== Loss: 0.23104 ==== Accuracy: 0.92933\n"
          ]
        },
        {
          "output_type": "stream",
          "name": "stderr",
          "text": [
            "100%|██████████| 41/41 [00:00<00:00, 116.89it/s]\n"
          ]
        },
        {
          "output_type": "stream",
          "name": "stdout",
          "text": [
            "[test] Epoch: 15 ==== Loss: 0.39889 ==== Accuracy: 0.89188\n"
          ]
        },
        {
          "output_type": "stream",
          "name": "stderr",
          "text": [
            "100%|██████████| 94/94 [00:01<00:00, 82.71it/s]\n"
          ]
        },
        {
          "output_type": "stream",
          "name": "stdout",
          "text": [
            "[train] Epoch: 16 ==== Loss: 0.21755 ==== Accuracy: 0.93349\n"
          ]
        },
        {
          "output_type": "stream",
          "name": "stderr",
          "text": [
            "100%|██████████| 41/41 [00:00<00:00, 119.03it/s]\n"
          ]
        },
        {
          "output_type": "stream",
          "name": "stdout",
          "text": [
            "[test] Epoch: 16 ==== Loss: 0.39922 ==== Accuracy: 0.89346\n"
          ]
        },
        {
          "output_type": "stream",
          "name": "stderr",
          "text": [
            "100%|██████████| 94/94 [00:01<00:00, 84.86it/s]\n"
          ]
        },
        {
          "output_type": "stream",
          "name": "stdout",
          "text": [
            "[train] Epoch: 17 ==== Loss: 0.20555 ==== Accuracy: 0.93719\n"
          ]
        },
        {
          "output_type": "stream",
          "name": "stderr",
          "text": [
            "100%|██████████| 41/41 [00:00<00:00, 85.11it/s]\n"
          ]
        },
        {
          "output_type": "stream",
          "name": "stdout",
          "text": [
            "[test] Epoch: 17 ==== Loss: 0.39736 ==== Accuracy: 0.89514\n"
          ]
        },
        {
          "output_type": "stream",
          "name": "stderr",
          "text": [
            "100%|██████████| 94/94 [00:01<00:00, 68.09it/s]\n"
          ]
        },
        {
          "output_type": "stream",
          "name": "stdout",
          "text": [
            "[train] Epoch: 18 ==== Loss: 0.19472 ==== Accuracy: 0.94047\n"
          ]
        },
        {
          "output_type": "stream",
          "name": "stderr",
          "text": [
            "100%|██████████| 41/41 [00:00<00:00, 85.70it/s]\n"
          ]
        },
        {
          "output_type": "stream",
          "name": "stdout",
          "text": [
            "[test] Epoch: 18 ==== Loss: 0.39922 ==== Accuracy: 0.89571\n"
          ]
        },
        {
          "output_type": "stream",
          "name": "stderr",
          "text": [
            "100%|██████████| 94/94 [00:01<00:00, 76.01it/s]\n"
          ]
        },
        {
          "output_type": "stream",
          "name": "stdout",
          "text": [
            "[train] Epoch: 19 ==== Loss: 0.18589 ==== Accuracy: 0.94317\n"
          ]
        },
        {
          "output_type": "stream",
          "name": "stderr",
          "text": [
            "100%|██████████| 41/41 [00:00<00:00, 117.75it/s]\n"
          ]
        },
        {
          "output_type": "stream",
          "name": "stdout",
          "text": [
            "[test] Epoch: 19 ==== Loss: 0.40686 ==== Accuracy: 0.89549\n"
          ]
        },
        {
          "output_type": "stream",
          "name": "stderr",
          "text": [
            "100%|██████████| 94/94 [00:01<00:00, 86.00it/s]\n"
          ]
        },
        {
          "output_type": "stream",
          "name": "stdout",
          "text": [
            "[train] Epoch: 20 ==== Loss: 0.18074 ==== Accuracy: 0.94458\n"
          ]
        },
        {
          "output_type": "stream",
          "name": "stderr",
          "text": [
            "100%|██████████| 41/41 [00:00<00:00, 116.31it/s]\n"
          ]
        },
        {
          "output_type": "stream",
          "name": "stdout",
          "text": [
            "[test] Epoch: 20 ==== Loss: 0.40840 ==== Accuracy: 0.89598\n"
          ]
        },
        {
          "output_type": "stream",
          "name": "stderr",
          "text": [
            "100%|██████████| 94/94 [00:01<00:00, 77.05it/s]\n"
          ]
        },
        {
          "output_type": "stream",
          "name": "stdout",
          "text": [
            "[train] Epoch: 21 ==== Loss: 0.17449 ==== Accuracy: 0.94634\n"
          ]
        },
        {
          "output_type": "stream",
          "name": "stderr",
          "text": [
            "100%|██████████| 41/41 [00:00<00:00, 86.69it/s]\n"
          ]
        },
        {
          "output_type": "stream",
          "name": "stdout",
          "text": [
            "[test] Epoch: 21 ==== Loss: 0.41066 ==== Accuracy: 0.89637\n"
          ]
        },
        {
          "output_type": "stream",
          "name": "stderr",
          "text": [
            "100%|██████████| 94/94 [00:01<00:00, 67.37it/s]\n"
          ]
        },
        {
          "output_type": "stream",
          "name": "stdout",
          "text": [
            "[train] Epoch: 22 ==== Loss: 0.16825 ==== Accuracy: 0.94829\n"
          ]
        },
        {
          "output_type": "stream",
          "name": "stderr",
          "text": [
            "100%|██████████| 41/41 [00:00<00:00, 85.84it/s]\n"
          ]
        },
        {
          "output_type": "stream",
          "name": "stdout",
          "text": [
            "[test] Epoch: 22 ==== Loss: 0.41032 ==== Accuracy: 0.89734\n"
          ]
        },
        {
          "output_type": "stream",
          "name": "stderr",
          "text": [
            "100%|██████████| 94/94 [00:01<00:00, 80.50it/s]\n"
          ]
        },
        {
          "output_type": "stream",
          "name": "stdout",
          "text": [
            "[train] Epoch: 23 ==== Loss: 0.16137 ==== Accuracy: 0.95044\n"
          ]
        },
        {
          "output_type": "stream",
          "name": "stderr",
          "text": [
            "100%|██████████| 41/41 [00:00<00:00, 116.75it/s]\n"
          ]
        },
        {
          "output_type": "stream",
          "name": "stdout",
          "text": [
            "[test] Epoch: 23 ==== Loss: 0.40858 ==== Accuracy: 0.89855\n"
          ]
        },
        {
          "output_type": "stream",
          "name": "stderr",
          "text": [
            "100%|██████████| 94/94 [00:01<00:00, 84.27it/s]\n"
          ]
        },
        {
          "output_type": "stream",
          "name": "stdout",
          "text": [
            "[train] Epoch: 24 ==== Loss: 0.15483 ==== Accuracy: 0.95245\n"
          ]
        },
        {
          "output_type": "stream",
          "name": "stderr",
          "text": [
            "100%|██████████| 41/41 [00:00<00:00, 115.90it/s]\n"
          ]
        },
        {
          "output_type": "stream",
          "name": "stdout",
          "text": [
            "[test] Epoch: 24 ==== Loss: 0.40772 ==== Accuracy: 0.89964\n"
          ]
        },
        {
          "output_type": "stream",
          "name": "stderr",
          "text": [
            "100%|██████████| 94/94 [00:01<00:00, 79.42it/s]\n"
          ]
        },
        {
          "output_type": "stream",
          "name": "stdout",
          "text": [
            "[train] Epoch: 25 ==== Loss: 0.14871 ==== Accuracy: 0.95435\n"
          ]
        },
        {
          "output_type": "stream",
          "name": "stderr",
          "text": [
            "100%|██████████| 41/41 [00:00<00:00, 85.03it/s]\n"
          ]
        },
        {
          "output_type": "stream",
          "name": "stdout",
          "text": [
            "[test] Epoch: 25 ==== Loss: 0.40710 ==== Accuracy: 0.90071\n"
          ]
        },
        {
          "output_type": "stream",
          "name": "stderr",
          "text": [
            "100%|██████████| 94/94 [00:01<00:00, 66.45it/s]\n"
          ]
        },
        {
          "output_type": "stream",
          "name": "stdout",
          "text": [
            "[train] Epoch: 26 ==== Loss: 0.14301 ==== Accuracy: 0.95611\n"
          ]
        },
        {
          "output_type": "stream",
          "name": "stderr",
          "text": [
            "100%|██████████| 41/41 [00:00<00:00, 84.11it/s]\n"
          ]
        },
        {
          "output_type": "stream",
          "name": "stdout",
          "text": [
            "[test] Epoch: 26 ==== Loss: 0.40599 ==== Accuracy: 0.90175\n"
          ]
        },
        {
          "output_type": "stream",
          "name": "stderr",
          "text": [
            "100%|██████████| 94/94 [00:01<00:00, 76.29it/s]\n"
          ]
        },
        {
          "output_type": "stream",
          "name": "stdout",
          "text": [
            "[train] Epoch: 27 ==== Loss: 0.13773 ==== Accuracy: 0.95773\n"
          ]
        },
        {
          "output_type": "stream",
          "name": "stderr",
          "text": [
            "100%|██████████| 41/41 [00:00<00:00, 117.75it/s]\n"
          ]
        },
        {
          "output_type": "stream",
          "name": "stdout",
          "text": [
            "[test] Epoch: 27 ==== Loss: 0.40511 ==== Accuracy: 0.90271\n"
          ]
        },
        {
          "output_type": "stream",
          "name": "stderr",
          "text": [
            "100%|██████████| 94/94 [00:01<00:00, 83.66it/s]\n"
          ]
        },
        {
          "output_type": "stream",
          "name": "stdout",
          "text": [
            "[train] Epoch: 28 ==== Loss: 0.13282 ==== Accuracy: 0.95924\n"
          ]
        },
        {
          "output_type": "stream",
          "name": "stderr",
          "text": [
            "100%|██████████| 41/41 [00:00<00:00, 116.62it/s]\n"
          ]
        },
        {
          "output_type": "stream",
          "name": "stdout",
          "text": [
            "[test] Epoch: 28 ==== Loss: 0.40442 ==== Accuracy: 0.90360\n"
          ]
        },
        {
          "output_type": "stream",
          "name": "stderr",
          "text": [
            "100%|██████████| 94/94 [00:01<00:00, 84.75it/s]\n"
          ]
        },
        {
          "output_type": "stream",
          "name": "stdout",
          "text": [
            "[train] Epoch: 29 ==== Loss: 0.12825 ==== Accuracy: 0.96065\n"
          ]
        },
        {
          "output_type": "stream",
          "name": "stderr",
          "text": [
            "100%|██████████| 41/41 [00:00<00:00, 114.94it/s]\n"
          ]
        },
        {
          "output_type": "stream",
          "name": "stdout",
          "text": [
            "[test] Epoch: 29 ==== Loss: 0.40395 ==== Accuracy: 0.90444\n"
          ]
        },
        {
          "output_type": "stream",
          "name": "stderr",
          "text": [
            "100%|██████████| 94/94 [00:01<00:00, 71.30it/s]\n"
          ]
        },
        {
          "output_type": "stream",
          "name": "stdout",
          "text": [
            "[train] Epoch: 30 ==== Loss: 0.12398 ==== Accuracy: 0.96196\n"
          ]
        },
        {
          "output_type": "stream",
          "name": "stderr",
          "text": [
            "100%|██████████| 41/41 [00:00<00:00, 72.83it/s]\n"
          ]
        },
        {
          "output_type": "stream",
          "name": "stdout",
          "text": [
            "[test] Epoch: 30 ==== Loss: 0.40357 ==== Accuracy: 0.90521\n"
          ]
        },
        {
          "output_type": "stream",
          "name": "stderr",
          "text": [
            "100%|██████████| 94/94 [00:01<00:00, 71.57it/s]\n"
          ]
        },
        {
          "output_type": "stream",
          "name": "stdout",
          "text": [
            "[train] Epoch: 31 ==== Loss: 0.11999 ==== Accuracy: 0.96319\n"
          ]
        },
        {
          "output_type": "stream",
          "name": "stderr",
          "text": [
            "100%|██████████| 41/41 [00:00<00:00, 118.61it/s]\n"
          ]
        },
        {
          "output_type": "stream",
          "name": "stdout",
          "text": [
            "[test] Epoch: 31 ==== Loss: 0.40331 ==== Accuracy: 0.90598\n"
          ]
        },
        {
          "output_type": "stream",
          "name": "stderr",
          "text": [
            "100%|██████████| 94/94 [00:01<00:00, 84.50it/s]\n"
          ]
        },
        {
          "output_type": "stream",
          "name": "stdout",
          "text": [
            "[train] Epoch: 32 ==== Loss: 0.11624 ==== Accuracy: 0.96434\n"
          ]
        },
        {
          "output_type": "stream",
          "name": "stderr",
          "text": [
            "100%|██████████| 41/41 [00:00<00:00, 116.54it/s]\n"
          ]
        },
        {
          "output_type": "stream",
          "name": "stdout",
          "text": [
            "[test] Epoch: 32 ==== Loss: 0.40318 ==== Accuracy: 0.90668\n"
          ]
        },
        {
          "output_type": "stream",
          "name": "stderr",
          "text": [
            "100%|██████████| 94/94 [00:01<00:00, 77.61it/s]\n"
          ]
        },
        {
          "output_type": "stream",
          "name": "stdout",
          "text": [
            "[train] Epoch: 33 ==== Loss: 0.11272 ==== Accuracy: 0.96542\n"
          ]
        },
        {
          "output_type": "stream",
          "name": "stderr",
          "text": [
            "100%|██████████| 41/41 [00:00<00:00, 82.25it/s]\n"
          ]
        },
        {
          "output_type": "stream",
          "name": "stdout",
          "text": [
            "[test] Epoch: 33 ==== Loss: 0.40324 ==== Accuracy: 0.90734\n"
          ]
        },
        {
          "output_type": "stream",
          "name": "stderr",
          "text": [
            "100%|██████████| 94/94 [00:01<00:00, 67.47it/s]\n"
          ]
        },
        {
          "output_type": "stream",
          "name": "stdout",
          "text": [
            "[train] Epoch: 34 ==== Loss: 0.10941 ==== Accuracy: 0.96643\n"
          ]
        },
        {
          "output_type": "stream",
          "name": "stderr",
          "text": [
            "100%|██████████| 41/41 [00:00<00:00, 86.86it/s]\n"
          ]
        },
        {
          "output_type": "stream",
          "name": "stdout",
          "text": [
            "[test] Epoch: 34 ==== Loss: 0.40332 ==== Accuracy: 0.90795\n"
          ]
        },
        {
          "output_type": "stream",
          "name": "stderr",
          "text": [
            "100%|██████████| 94/94 [00:01<00:00, 81.84it/s]\n"
          ]
        },
        {
          "output_type": "stream",
          "name": "stdout",
          "text": [
            "[train] Epoch: 35 ==== Loss: 0.10629 ==== Accuracy: 0.96739\n"
          ]
        },
        {
          "output_type": "stream",
          "name": "stderr",
          "text": [
            "100%|██████████| 41/41 [00:00<00:00, 117.33it/s]\n"
          ]
        },
        {
          "output_type": "stream",
          "name": "stdout",
          "text": [
            "[test] Epoch: 35 ==== Loss: 0.40346 ==== Accuracy: 0.90857\n"
          ]
        },
        {
          "output_type": "stream",
          "name": "stderr",
          "text": [
            "100%|██████████| 94/94 [00:01<00:00, 83.84it/s]\n"
          ]
        },
        {
          "output_type": "stream",
          "name": "stdout",
          "text": [
            "[train] Epoch: 36 ==== Loss: 0.10334 ==== Accuracy: 0.96830\n"
          ]
        },
        {
          "output_type": "stream",
          "name": "stderr",
          "text": [
            "100%|██████████| 41/41 [00:00<00:00, 121.01it/s]\n"
          ]
        },
        {
          "output_type": "stream",
          "name": "stdout",
          "text": [
            "[test] Epoch: 36 ==== Loss: 0.40365 ==== Accuracy: 0.90916\n"
          ]
        },
        {
          "output_type": "stream",
          "name": "stderr",
          "text": [
            "100%|██████████| 94/94 [00:01<00:00, 84.87it/s]\n"
          ]
        },
        {
          "output_type": "stream",
          "name": "stdout",
          "text": [
            "[train] Epoch: 37 ==== Loss: 0.10055 ==== Accuracy: 0.96916\n"
          ]
        },
        {
          "output_type": "stream",
          "name": "stderr",
          "text": [
            "100%|██████████| 41/41 [00:00<00:00, 117.58it/s]\n"
          ]
        },
        {
          "output_type": "stream",
          "name": "stdout",
          "text": [
            "[test] Epoch: 37 ==== Loss: 0.40393 ==== Accuracy: 0.90969\n"
          ]
        },
        {
          "output_type": "stream",
          "name": "stderr",
          "text": [
            "100%|██████████| 94/94 [00:01<00:00, 85.18it/s]\n"
          ]
        },
        {
          "output_type": "stream",
          "name": "stdout",
          "text": [
            "[train] Epoch: 38 ==== Loss: 0.09790 ==== Accuracy: 0.96997\n"
          ]
        },
        {
          "output_type": "stream",
          "name": "stderr",
          "text": [
            "100%|██████████| 41/41 [00:00<00:00, 115.45it/s]\n"
          ]
        },
        {
          "output_type": "stream",
          "name": "stdout",
          "text": [
            "[test] Epoch: 38 ==== Loss: 0.40426 ==== Accuracy: 0.91020\n"
          ]
        },
        {
          "output_type": "stream",
          "name": "stderr",
          "text": [
            "100%|██████████| 94/94 [00:01<00:00, 84.32it/s]\n"
          ]
        },
        {
          "output_type": "stream",
          "name": "stdout",
          "text": [
            "[train] Epoch: 39 ==== Loss: 0.09540 ==== Accuracy: 0.97074\n"
          ]
        },
        {
          "output_type": "stream",
          "name": "stderr",
          "text": [
            "100%|██████████| 41/41 [00:00<00:00, 118.27it/s]\n"
          ]
        },
        {
          "output_type": "stream",
          "name": "stdout",
          "text": [
            "[test] Epoch: 39 ==== Loss: 0.40461 ==== Accuracy: 0.91071\n"
          ]
        },
        {
          "output_type": "stream",
          "name": "stderr",
          "text": [
            "100%|██████████| 94/94 [00:01<00:00, 83.63it/s]\n"
          ]
        },
        {
          "output_type": "stream",
          "name": "stdout",
          "text": [
            "[train] Epoch: 40 ==== Loss: 0.09301 ==== Accuracy: 0.97147\n"
          ]
        },
        {
          "output_type": "stream",
          "name": "stderr",
          "text": [
            "100%|██████████| 41/41 [00:00<00:00, 115.98it/s]\n"
          ]
        },
        {
          "output_type": "stream",
          "name": "stdout",
          "text": [
            "[test] Epoch: 40 ==== Loss: 0.40502 ==== Accuracy: 0.91120\n"
          ]
        },
        {
          "output_type": "stream",
          "name": "stderr",
          "text": [
            "100%|██████████| 94/94 [00:01<00:00, 83.72it/s]\n"
          ]
        },
        {
          "output_type": "stream",
          "name": "stdout",
          "text": [
            "[train] Epoch: 41 ==== Loss: 0.09075 ==== Accuracy: 0.97216\n"
          ]
        },
        {
          "output_type": "stream",
          "name": "stderr",
          "text": [
            "100%|██████████| 41/41 [00:00<00:00, 94.40it/s]\n"
          ]
        },
        {
          "output_type": "stream",
          "name": "stdout",
          "text": [
            "[test] Epoch: 41 ==== Loss: 0.40550 ==== Accuracy: 0.91165\n"
          ]
        },
        {
          "output_type": "stream",
          "name": "stderr",
          "text": [
            "100%|██████████| 94/94 [00:01<00:00, 67.19it/s]\n"
          ]
        },
        {
          "output_type": "stream",
          "name": "stdout",
          "text": [
            "[train] Epoch: 42 ==== Loss: 0.08859 ==== Accuracy: 0.97283\n"
          ]
        },
        {
          "output_type": "stream",
          "name": "stderr",
          "text": [
            "100%|██████████| 41/41 [00:00<00:00, 87.05it/s]\n"
          ]
        },
        {
          "output_type": "stream",
          "name": "stdout",
          "text": [
            "[test] Epoch: 42 ==== Loss: 0.40599 ==== Accuracy: 0.91211\n"
          ]
        },
        {
          "output_type": "stream",
          "name": "stderr",
          "text": [
            "100%|██████████| 94/94 [00:01<00:00, 72.17it/s]\n"
          ]
        },
        {
          "output_type": "stream",
          "name": "stdout",
          "text": [
            "[train] Epoch: 43 ==== Loss: 0.08653 ==== Accuracy: 0.97346\n"
          ]
        },
        {
          "output_type": "stream",
          "name": "stderr",
          "text": [
            "100%|██████████| 41/41 [00:00<00:00, 107.28it/s]\n"
          ]
        },
        {
          "output_type": "stream",
          "name": "stdout",
          "text": [
            "[test] Epoch: 43 ==== Loss: 0.40654 ==== Accuracy: 0.91256\n"
          ]
        },
        {
          "output_type": "stream",
          "name": "stderr",
          "text": [
            "100%|██████████| 94/94 [00:01<00:00, 83.29it/s]\n"
          ]
        },
        {
          "output_type": "stream",
          "name": "stdout",
          "text": [
            "[train] Epoch: 44 ==== Loss: 0.08456 ==== Accuracy: 0.97406\n"
          ]
        },
        {
          "output_type": "stream",
          "name": "stderr",
          "text": [
            "100%|██████████| 41/41 [00:00<00:00, 114.90it/s]\n"
          ]
        },
        {
          "output_type": "stream",
          "name": "stdout",
          "text": [
            "[test] Epoch: 44 ==== Loss: 0.40712 ==== Accuracy: 0.91294\n"
          ]
        },
        {
          "output_type": "stream",
          "name": "stderr",
          "text": [
            "100%|██████████| 94/94 [00:01<00:00, 84.13it/s]\n"
          ]
        },
        {
          "output_type": "stream",
          "name": "stdout",
          "text": [
            "[train] Epoch: 45 ==== Loss: 0.08269 ==== Accuracy: 0.97464\n"
          ]
        },
        {
          "output_type": "stream",
          "name": "stderr",
          "text": [
            "100%|██████████| 41/41 [00:00<00:00, 115.61it/s]\n"
          ]
        },
        {
          "output_type": "stream",
          "name": "stdout",
          "text": [
            "[test] Epoch: 45 ==== Loss: 0.40773 ==== Accuracy: 0.91335\n"
          ]
        },
        {
          "output_type": "stream",
          "name": "stderr",
          "text": [
            "100%|██████████| 94/94 [00:01<00:00, 83.41it/s]\n"
          ]
        },
        {
          "output_type": "stream",
          "name": "stdout",
          "text": [
            "[train] Epoch: 46 ==== Loss: 0.08089 ==== Accuracy: 0.97519\n"
          ]
        },
        {
          "output_type": "stream",
          "name": "stderr",
          "text": [
            "100%|██████████| 41/41 [00:00<00:00, 113.55it/s]\n"
          ]
        },
        {
          "output_type": "stream",
          "name": "stdout",
          "text": [
            "[test] Epoch: 46 ==== Loss: 0.40838 ==== Accuracy: 0.91373\n"
          ]
        },
        {
          "output_type": "stream",
          "name": "stderr",
          "text": [
            "100%|██████████| 94/94 [00:01<00:00, 85.23it/s]\n"
          ]
        },
        {
          "output_type": "stream",
          "name": "stdout",
          "text": [
            "[train] Epoch: 47 ==== Loss: 0.07917 ==== Accuracy: 0.97572\n"
          ]
        },
        {
          "output_type": "stream",
          "name": "stderr",
          "text": [
            "100%|██████████| 41/41 [00:00<00:00, 113.32it/s]\n"
          ]
        },
        {
          "output_type": "stream",
          "name": "stdout",
          "text": [
            "[test] Epoch: 47 ==== Loss: 0.40904 ==== Accuracy: 0.91411\n"
          ]
        },
        {
          "output_type": "stream",
          "name": "stderr",
          "text": [
            "100%|██████████| 94/94 [00:01<00:00, 84.42it/s]\n"
          ]
        },
        {
          "output_type": "stream",
          "name": "stdout",
          "text": [
            "[train] Epoch: 48 ==== Loss: 0.07752 ==== Accuracy: 0.97622\n"
          ]
        },
        {
          "output_type": "stream",
          "name": "stderr",
          "text": [
            "100%|██████████| 41/41 [00:00<00:00, 117.60it/s]\n"
          ]
        },
        {
          "output_type": "stream",
          "name": "stdout",
          "text": [
            "[test] Epoch: 48 ==== Loss: 0.40972 ==== Accuracy: 0.91447\n"
          ]
        },
        {
          "output_type": "stream",
          "name": "stderr",
          "text": [
            "100%|██████████| 94/94 [00:01<00:00, 85.15it/s]\n"
          ]
        },
        {
          "output_type": "stream",
          "name": "stdout",
          "text": [
            "[train] Epoch: 49 ==== Loss: 0.07594 ==== Accuracy: 0.97671\n"
          ]
        },
        {
          "output_type": "stream",
          "name": "stderr",
          "text": [
            "100%|██████████| 41/41 [00:00<00:00, 117.27it/s]\n"
          ]
        },
        {
          "output_type": "stream",
          "name": "stdout",
          "text": [
            "[test] Epoch: 49 ==== Loss: 0.41043 ==== Accuracy: 0.91481\n"
          ]
        },
        {
          "output_type": "stream",
          "name": "stderr",
          "text": [
            "100%|██████████| 94/94 [00:01<00:00, 69.76it/s]\n"
          ]
        },
        {
          "output_type": "stream",
          "name": "stdout",
          "text": [
            "[train] Epoch: 50 ==== Loss: 0.07442 ==== Accuracy: 0.97717\n"
          ]
        },
        {
          "output_type": "stream",
          "name": "stderr",
          "text": [
            "100%|██████████| 41/41 [00:00<00:00, 87.72it/s]"
          ]
        },
        {
          "output_type": "stream",
          "name": "stdout",
          "text": [
            "[test] Epoch: 50 ==== Loss: 0.41115 ==== Accuracy: 0.91514\n"
          ]
        },
        {
          "output_type": "stream",
          "name": "stderr",
          "text": [
            "\n"
          ]
        }
      ]
    },
    {
      "cell_type": "code",
      "source": [
        "params = {'is_batchnorm': True, 'is_dropout': True, 'dropout_coeffs':[0.1, 0.1]}\n",
        "model = CNN_model(params)\n",
        "print(model)\n",
        "\n",
        "criterion = nn.CrossEntropyLoss(reduction='mean')\n",
        "optimizer = optim.Adam(model.parameters(), lr=1e-3)\n",
        "epochs = 50\n",
        "\n",
        "tracks = train_test_cnn(model, loaders, optimizer, criterion, epochs=epochs)"
      ],
      "metadata": {
        "colab": {
          "base_uri": "https://localhost:8080/"
        },
        "id": "YbivZqguf_3V",
        "outputId": "10e07ecc-7618-474d-843a-9fb4e9395752"
      },
      "execution_count": 26,
      "outputs": [
        {
          "output_type": "stream",
          "name": "stdout",
          "text": [
            "CNN_model(\n",
            "  (conv1): Conv2d(3, 32, kernel_size=(3, 3), stride=(1, 1), padding=(1, 1))\n",
            "  (conv2): Conv2d(32, 64, kernel_size=(3, 3), stride=(1, 1), padding=(1, 1))\n",
            "  (pool): MaxPool2d(kernel_size=(2, 2), stride=(2, 2), padding=0, dilation=1, ceil_mode=False)\n",
            "  (batch1): BatchNorm2d(32, eps=1e-05, momentum=0.1, affine=True, track_running_stats=True)\n",
            "  (batch2): BatchNorm2d(64, eps=1e-05, momentum=0.1, affine=True, track_running_stats=True)\n",
            "  (linear1): Linear(in_features=7680, out_features=64, bias=False)\n",
            "  (linear2): Linear(in_features=64, out_features=19, bias=False)\n",
            ")\n"
          ]
        },
        {
          "output_type": "stream",
          "name": "stderr",
          "text": [
            "100%|██████████| 94/94 [00:01<00:00, 54.84it/s]\n"
          ]
        },
        {
          "output_type": "stream",
          "name": "stdout",
          "text": [
            "[train] Epoch: 1 ==== Loss: 2.25295 ==== Accuracy: 0.31375\n"
          ]
        },
        {
          "output_type": "stream",
          "name": "stderr",
          "text": [
            "100%|██████████| 41/41 [00:00<00:00, 116.46it/s]\n"
          ]
        },
        {
          "output_type": "stream",
          "name": "stdout",
          "text": [
            "[test] Epoch: 1 ==== Loss: 1.42286 ==== Accuracy: 0.54642\n"
          ]
        },
        {
          "output_type": "stream",
          "name": "stderr",
          "text": [
            "100%|██████████| 94/94 [00:01<00:00, 81.95it/s]\n"
          ]
        },
        {
          "output_type": "stream",
          "name": "stdout",
          "text": [
            "[train] Epoch: 2 ==== Loss: 1.56165 ==== Accuracy: 0.51963\n"
          ]
        },
        {
          "output_type": "stream",
          "name": "stderr",
          "text": [
            "100%|██████████| 41/41 [00:00<00:00, 115.57it/s]\n"
          ]
        },
        {
          "output_type": "stream",
          "name": "stdout",
          "text": [
            "[test] Epoch: 2 ==== Loss: 1.02322 ==== Accuracy: 0.68287\n"
          ]
        },
        {
          "output_type": "stream",
          "name": "stderr",
          "text": [
            "100%|██████████| 94/94 [00:01<00:00, 80.59it/s]\n"
          ]
        },
        {
          "output_type": "stream",
          "name": "stdout",
          "text": [
            "[train] Epoch: 3 ==== Loss: 1.18555 ==== Accuracy: 0.63498\n"
          ]
        },
        {
          "output_type": "stream",
          "name": "stderr",
          "text": [
            "100%|██████████| 41/41 [00:00<00:00, 116.32it/s]\n"
          ]
        },
        {
          "output_type": "stream",
          "name": "stdout",
          "text": [
            "[test] Epoch: 3 ==== Loss: 0.85067 ==== Accuracy: 0.74102\n"
          ]
        },
        {
          "output_type": "stream",
          "name": "stderr",
          "text": [
            "100%|██████████| 94/94 [00:01<00:00, 81.04it/s]\n"
          ]
        },
        {
          "output_type": "stream",
          "name": "stdout",
          "text": [
            "[train] Epoch: 4 ==== Loss: 0.95938 ==== Accuracy: 0.70421\n"
          ]
        },
        {
          "output_type": "stream",
          "name": "stderr",
          "text": [
            "100%|██████████| 41/41 [00:00<00:00, 115.36it/s]\n"
          ]
        },
        {
          "output_type": "stream",
          "name": "stdout",
          "text": [
            "[test] Epoch: 4 ==== Loss: 0.72422 ==== Accuracy: 0.77897\n"
          ]
        },
        {
          "output_type": "stream",
          "name": "stderr",
          "text": [
            "100%|██████████| 94/94 [00:01<00:00, 80.54it/s]\n"
          ]
        },
        {
          "output_type": "stream",
          "name": "stdout",
          "text": [
            "[train] Epoch: 5 ==== Loss: 0.80244 ==== Accuracy: 0.75258\n"
          ]
        },
        {
          "output_type": "stream",
          "name": "stderr",
          "text": [
            "100%|██████████| 41/41 [00:00<00:00, 117.01it/s]\n"
          ]
        },
        {
          "output_type": "stream",
          "name": "stdout",
          "text": [
            "[test] Epoch: 5 ==== Loss: 0.64360 ==== Accuracy: 0.80349\n"
          ]
        },
        {
          "output_type": "stream",
          "name": "stderr",
          "text": [
            "100%|██████████| 94/94 [00:01<00:00, 81.39it/s]\n"
          ]
        },
        {
          "output_type": "stream",
          "name": "stdout",
          "text": [
            "[train] Epoch: 6 ==== Loss: 0.68938 ==== Accuracy: 0.78781\n"
          ]
        },
        {
          "output_type": "stream",
          "name": "stderr",
          "text": [
            "100%|██████████| 41/41 [00:00<00:00, 117.26it/s]\n"
          ]
        },
        {
          "output_type": "stream",
          "name": "stdout",
          "text": [
            "[test] Epoch: 6 ==== Loss: 0.59278 ==== Accuracy: 0.81994\n"
          ]
        },
        {
          "output_type": "stream",
          "name": "stderr",
          "text": [
            "100%|██████████| 94/94 [00:01<00:00, 81.91it/s]\n"
          ]
        },
        {
          "output_type": "stream",
          "name": "stdout",
          "text": [
            "[train] Epoch: 7 ==== Loss: 0.60480 ==== Accuracy: 0.81320\n"
          ]
        },
        {
          "output_type": "stream",
          "name": "stderr",
          "text": [
            "100%|██████████| 41/41 [00:00<00:00, 116.80it/s]\n"
          ]
        },
        {
          "output_type": "stream",
          "name": "stdout",
          "text": [
            "[test] Epoch: 7 ==== Loss: 0.55493 ==== Accuracy: 0.83124\n"
          ]
        },
        {
          "output_type": "stream",
          "name": "stderr",
          "text": [
            "100%|██████████| 94/94 [00:01<00:00, 64.28it/s]\n"
          ]
        },
        {
          "output_type": "stream",
          "name": "stdout",
          "text": [
            "[train] Epoch: 8 ==== Loss: 0.53776 ==== Accuracy: 0.83411\n"
          ]
        },
        {
          "output_type": "stream",
          "name": "stderr",
          "text": [
            "100%|██████████| 41/41 [00:00<00:00, 85.43it/s]\n"
          ]
        },
        {
          "output_type": "stream",
          "name": "stdout",
          "text": [
            "[test] Epoch: 8 ==== Loss: 0.52159 ==== Accuracy: 0.84252\n"
          ]
        },
        {
          "output_type": "stream",
          "name": "stderr",
          "text": [
            "100%|██████████| 94/94 [00:01<00:00, 69.12it/s]\n"
          ]
        },
        {
          "output_type": "stream",
          "name": "stdout",
          "text": [
            "[train] Epoch: 9 ==== Loss: 0.48459 ==== Accuracy: 0.85047\n"
          ]
        },
        {
          "output_type": "stream",
          "name": "stderr",
          "text": [
            "100%|██████████| 41/41 [00:00<00:00, 117.43it/s]\n"
          ]
        },
        {
          "output_type": "stream",
          "name": "stdout",
          "text": [
            "[test] Epoch: 9 ==== Loss: 0.49857 ==== Accuracy: 0.85061\n"
          ]
        },
        {
          "output_type": "stream",
          "name": "stderr",
          "text": [
            "100%|██████████| 94/94 [00:01<00:00, 80.58it/s]\n"
          ]
        },
        {
          "output_type": "stream",
          "name": "stdout",
          "text": [
            "[train] Epoch: 10 ==== Loss: 0.44053 ==== Accuracy: 0.86411\n"
          ]
        },
        {
          "output_type": "stream",
          "name": "stderr",
          "text": [
            "100%|██████████| 41/41 [00:00<00:00, 116.97it/s]\n"
          ]
        },
        {
          "output_type": "stream",
          "name": "stdout",
          "text": [
            "[test] Epoch: 10 ==== Loss: 0.48065 ==== Accuracy: 0.85670\n"
          ]
        },
        {
          "output_type": "stream",
          "name": "stderr",
          "text": [
            "100%|██████████| 94/94 [00:01<00:00, 80.84it/s]\n"
          ]
        },
        {
          "output_type": "stream",
          "name": "stdout",
          "text": [
            "[train] Epoch: 11 ==== Loss: 0.40323 ==== Accuracy: 0.87576\n"
          ]
        },
        {
          "output_type": "stream",
          "name": "stderr",
          "text": [
            "100%|██████████| 41/41 [00:00<00:00, 113.15it/s]\n"
          ]
        },
        {
          "output_type": "stream",
          "name": "stdout",
          "text": [
            "[test] Epoch: 11 ==== Loss: 0.46518 ==== Accuracy: 0.86191\n"
          ]
        },
        {
          "output_type": "stream",
          "name": "stderr",
          "text": [
            "100%|██████████| 94/94 [00:01<00:00, 81.56it/s]\n"
          ]
        },
        {
          "output_type": "stream",
          "name": "stdout",
          "text": [
            "[train] Epoch: 12 ==== Loss: 0.37258 ==== Accuracy: 0.88540\n"
          ]
        },
        {
          "output_type": "stream",
          "name": "stderr",
          "text": [
            "100%|██████████| 41/41 [00:00<00:00, 115.36it/s]\n"
          ]
        },
        {
          "output_type": "stream",
          "name": "stdout",
          "text": [
            "[test] Epoch: 12 ==== Loss: 0.45288 ==== Accuracy: 0.86677\n"
          ]
        },
        {
          "output_type": "stream",
          "name": "stderr",
          "text": [
            "100%|██████████| 94/94 [00:01<00:00, 80.38it/s]\n"
          ]
        },
        {
          "output_type": "stream",
          "name": "stdout",
          "text": [
            "[train] Epoch: 13 ==== Loss: 0.34521 ==== Accuracy: 0.89403\n"
          ]
        },
        {
          "output_type": "stream",
          "name": "stderr",
          "text": [
            "100%|██████████| 41/41 [00:00<00:00, 113.54it/s]\n"
          ]
        },
        {
          "output_type": "stream",
          "name": "stdout",
          "text": [
            "[test] Epoch: 13 ==== Loss: 0.44156 ==== Accuracy: 0.87160\n"
          ]
        },
        {
          "output_type": "stream",
          "name": "stderr",
          "text": [
            "100%|██████████| 94/94 [00:01<00:00, 80.37it/s]\n"
          ]
        },
        {
          "output_type": "stream",
          "name": "stdout",
          "text": [
            "[train] Epoch: 14 ==== Loss: 0.32179 ==== Accuracy: 0.90134\n"
          ]
        },
        {
          "output_type": "stream",
          "name": "stderr",
          "text": [
            "100%|██████████| 41/41 [00:00<00:00, 116.03it/s]\n"
          ]
        },
        {
          "output_type": "stream",
          "name": "stdout",
          "text": [
            "[test] Epoch: 14 ==== Loss: 0.43001 ==== Accuracy: 0.87552\n"
          ]
        },
        {
          "output_type": "stream",
          "name": "stderr",
          "text": [
            "100%|██████████| 94/94 [00:01<00:00, 80.19it/s]\n"
          ]
        },
        {
          "output_type": "stream",
          "name": "stdout",
          "text": [
            "[train] Epoch: 15 ==== Loss: 0.30100 ==== Accuracy: 0.90781\n"
          ]
        },
        {
          "output_type": "stream",
          "name": "stderr",
          "text": [
            "100%|██████████| 41/41 [00:00<00:00, 112.63it/s]\n"
          ]
        },
        {
          "output_type": "stream",
          "name": "stdout",
          "text": [
            "[test] Epoch: 15 ==== Loss: 0.42178 ==== Accuracy: 0.87867\n"
          ]
        },
        {
          "output_type": "stream",
          "name": "stderr",
          "text": [
            "100%|██████████| 94/94 [00:01<00:00, 64.34it/s]\n"
          ]
        },
        {
          "output_type": "stream",
          "name": "stdout",
          "text": [
            "[train] Epoch: 16 ==== Loss: 0.28269 ==== Accuracy: 0.91350\n"
          ]
        },
        {
          "output_type": "stream",
          "name": "stderr",
          "text": [
            "100%|██████████| 41/41 [00:00<00:00, 86.20it/s]\n"
          ]
        },
        {
          "output_type": "stream",
          "name": "stdout",
          "text": [
            "[test] Epoch: 16 ==== Loss: 0.41331 ==== Accuracy: 0.88193\n"
          ]
        },
        {
          "output_type": "stream",
          "name": "stderr",
          "text": [
            "100%|██████████| 94/94 [00:01<00:00, 67.84it/s]\n"
          ]
        },
        {
          "output_type": "stream",
          "name": "stdout",
          "text": [
            "[train] Epoch: 17 ==== Loss: 0.26668 ==== Accuracy: 0.91851\n"
          ]
        },
        {
          "output_type": "stream",
          "name": "stderr",
          "text": [
            "100%|██████████| 41/41 [00:00<00:00, 116.68it/s]\n"
          ]
        },
        {
          "output_type": "stream",
          "name": "stdout",
          "text": [
            "[test] Epoch: 17 ==== Loss: 0.40746 ==== Accuracy: 0.88463\n"
          ]
        },
        {
          "output_type": "stream",
          "name": "stderr",
          "text": [
            "100%|██████████| 94/94 [00:01<00:00, 81.07it/s]\n"
          ]
        },
        {
          "output_type": "stream",
          "name": "stdout",
          "text": [
            "[train] Epoch: 18 ==== Loss: 0.25218 ==== Accuracy: 0.92301\n"
          ]
        },
        {
          "output_type": "stream",
          "name": "stderr",
          "text": [
            "100%|██████████| 41/41 [00:00<00:00, 113.23it/s]\n"
          ]
        },
        {
          "output_type": "stream",
          "name": "stdout",
          "text": [
            "[test] Epoch: 18 ==== Loss: 0.40338 ==== Accuracy: 0.88664\n"
          ]
        },
        {
          "output_type": "stream",
          "name": "stderr",
          "text": [
            "100%|██████████| 94/94 [00:01<00:00, 81.26it/s]\n"
          ]
        },
        {
          "output_type": "stream",
          "name": "stdout",
          "text": [
            "[train] Epoch: 19 ==== Loss: 0.23949 ==== Accuracy: 0.92692\n"
          ]
        },
        {
          "output_type": "stream",
          "name": "stderr",
          "text": [
            "100%|██████████| 41/41 [00:00<00:00, 114.07it/s]\n"
          ]
        },
        {
          "output_type": "stream",
          "name": "stdout",
          "text": [
            "[test] Epoch: 19 ==== Loss: 0.40117 ==== Accuracy: 0.88805\n"
          ]
        },
        {
          "output_type": "stream",
          "name": "stderr",
          "text": [
            "100%|██████████| 94/94 [00:01<00:00, 80.62it/s]\n"
          ]
        },
        {
          "output_type": "stream",
          "name": "stdout",
          "text": [
            "[train] Epoch: 20 ==== Loss: 0.22923 ==== Accuracy: 0.93009\n"
          ]
        },
        {
          "output_type": "stream",
          "name": "stderr",
          "text": [
            "100%|██████████| 41/41 [00:00<00:00, 114.83it/s]\n"
          ]
        },
        {
          "output_type": "stream",
          "name": "stdout",
          "text": [
            "[test] Epoch: 20 ==== Loss: 0.42143 ==== Accuracy: 0.88551\n"
          ]
        },
        {
          "output_type": "stream",
          "name": "stderr",
          "text": [
            "100%|██████████| 94/94 [00:01<00:00, 81.09it/s]\n"
          ]
        },
        {
          "output_type": "stream",
          "name": "stdout",
          "text": [
            "[train] Epoch: 21 ==== Loss: 0.22448 ==== Accuracy: 0.93126\n"
          ]
        },
        {
          "output_type": "stream",
          "name": "stderr",
          "text": [
            "100%|██████████| 41/41 [00:00<00:00, 115.26it/s]\n"
          ]
        },
        {
          "output_type": "stream",
          "name": "stdout",
          "text": [
            "[test] Epoch: 21 ==== Loss: 0.42820 ==== Accuracy: 0.88527\n"
          ]
        },
        {
          "output_type": "stream",
          "name": "stderr",
          "text": [
            "100%|██████████| 94/94 [00:01<00:00, 79.98it/s]\n"
          ]
        },
        {
          "output_type": "stream",
          "name": "stdout",
          "text": [
            "[train] Epoch: 22 ==== Loss: 0.22058 ==== Accuracy: 0.93256\n"
          ]
        },
        {
          "output_type": "stream",
          "name": "stderr",
          "text": [
            "100%|██████████| 41/41 [00:00<00:00, 114.60it/s]\n"
          ]
        },
        {
          "output_type": "stream",
          "name": "stdout",
          "text": [
            "[test] Epoch: 22 ==== Loss: 0.42871 ==== Accuracy: 0.88595\n"
          ]
        },
        {
          "output_type": "stream",
          "name": "stderr",
          "text": [
            "100%|██████████| 94/94 [00:01<00:00, 79.81it/s]\n"
          ]
        },
        {
          "output_type": "stream",
          "name": "stdout",
          "text": [
            "[train] Epoch: 23 ==== Loss: 0.21437 ==== Accuracy: 0.93450\n"
          ]
        },
        {
          "output_type": "stream",
          "name": "stderr",
          "text": [
            "100%|██████████| 41/41 [00:00<00:00, 113.52it/s]\n"
          ]
        },
        {
          "output_type": "stream",
          "name": "stdout",
          "text": [
            "[test] Epoch: 23 ==== Loss: 0.43642 ==== Accuracy: 0.88620\n"
          ]
        },
        {
          "output_type": "stream",
          "name": "stderr",
          "text": [
            "100%|██████████| 94/94 [00:01<00:00, 63.98it/s]\n"
          ]
        },
        {
          "output_type": "stream",
          "name": "stdout",
          "text": [
            "[train] Epoch: 24 ==== Loss: 0.20728 ==== Accuracy: 0.93659\n"
          ]
        },
        {
          "output_type": "stream",
          "name": "stderr",
          "text": [
            "100%|██████████| 41/41 [00:00<00:00, 83.25it/s]\n"
          ]
        },
        {
          "output_type": "stream",
          "name": "stdout",
          "text": [
            "[test] Epoch: 24 ==== Loss: 0.43592 ==== Accuracy: 0.88762\n"
          ]
        },
        {
          "output_type": "stream",
          "name": "stderr",
          "text": [
            "100%|██████████| 94/94 [00:01<00:00, 66.89it/s]\n"
          ]
        },
        {
          "output_type": "stream",
          "name": "stdout",
          "text": [
            "[train] Epoch: 25 ==== Loss: 0.20053 ==== Accuracy: 0.93868\n"
          ]
        },
        {
          "output_type": "stream",
          "name": "stderr",
          "text": [
            "100%|██████████| 41/41 [00:00<00:00, 112.76it/s]\n"
          ]
        },
        {
          "output_type": "stream",
          "name": "stdout",
          "text": [
            "[test] Epoch: 25 ==== Loss: 0.43305 ==== Accuracy: 0.88890\n"
          ]
        },
        {
          "output_type": "stream",
          "name": "stderr",
          "text": [
            "100%|██████████| 94/94 [00:01<00:00, 79.64it/s]\n"
          ]
        },
        {
          "output_type": "stream",
          "name": "stdout",
          "text": [
            "[train] Epoch: 26 ==== Loss: 0.19337 ==== Accuracy: 0.94090\n"
          ]
        },
        {
          "output_type": "stream",
          "name": "stderr",
          "text": [
            "100%|██████████| 41/41 [00:00<00:00, 116.35it/s]\n"
          ]
        },
        {
          "output_type": "stream",
          "name": "stdout",
          "text": [
            "[test] Epoch: 26 ==== Loss: 0.43049 ==== Accuracy: 0.89049\n"
          ]
        },
        {
          "output_type": "stream",
          "name": "stderr",
          "text": [
            "100%|██████████| 94/94 [00:01<00:00, 78.97it/s]\n"
          ]
        },
        {
          "output_type": "stream",
          "name": "stdout",
          "text": [
            "[train] Epoch: 27 ==== Loss: 0.18657 ==== Accuracy: 0.94297\n"
          ]
        },
        {
          "output_type": "stream",
          "name": "stderr",
          "text": [
            "100%|██████████| 41/41 [00:00<00:00, 113.94it/s]\n"
          ]
        },
        {
          "output_type": "stream",
          "name": "stdout",
          "text": [
            "[test] Epoch: 27 ==== Loss: 0.42813 ==== Accuracy: 0.89200\n"
          ]
        },
        {
          "output_type": "stream",
          "name": "stderr",
          "text": [
            "100%|██████████| 94/94 [00:01<00:00, 81.92it/s]\n"
          ]
        },
        {
          "output_type": "stream",
          "name": "stdout",
          "text": [
            "[train] Epoch: 28 ==== Loss: 0.18006 ==== Accuracy: 0.94496\n"
          ]
        },
        {
          "output_type": "stream",
          "name": "stderr",
          "text": [
            "100%|██████████| 41/41 [00:00<00:00, 114.88it/s]\n"
          ]
        },
        {
          "output_type": "stream",
          "name": "stdout",
          "text": [
            "[test] Epoch: 28 ==== Loss: 0.42480 ==== Accuracy: 0.89348\n"
          ]
        },
        {
          "output_type": "stream",
          "name": "stderr",
          "text": [
            "100%|██████████| 94/94 [00:01<00:00, 80.70it/s]\n"
          ]
        },
        {
          "output_type": "stream",
          "name": "stdout",
          "text": [
            "[train] Epoch: 29 ==== Loss: 0.17395 ==== Accuracy: 0.94685\n"
          ]
        },
        {
          "output_type": "stream",
          "name": "stderr",
          "text": [
            "100%|██████████| 41/41 [00:00<00:00, 114.16it/s]\n"
          ]
        },
        {
          "output_type": "stream",
          "name": "stdout",
          "text": [
            "[test] Epoch: 29 ==== Loss: 0.42253 ==== Accuracy: 0.89503\n"
          ]
        },
        {
          "output_type": "stream",
          "name": "stderr",
          "text": [
            "100%|██████████| 94/94 [00:01<00:00, 78.71it/s]\n"
          ]
        },
        {
          "output_type": "stream",
          "name": "stdout",
          "text": [
            "[train] Epoch: 30 ==== Loss: 0.16819 ==== Accuracy: 0.94862\n"
          ]
        },
        {
          "output_type": "stream",
          "name": "stderr",
          "text": [
            "100%|██████████| 41/41 [00:00<00:00, 114.83it/s]\n"
          ]
        },
        {
          "output_type": "stream",
          "name": "stdout",
          "text": [
            "[test] Epoch: 30 ==== Loss: 0.41986 ==== Accuracy: 0.89651\n"
          ]
        },
        {
          "output_type": "stream",
          "name": "stderr",
          "text": [
            "100%|██████████| 94/94 [00:01<00:00, 79.20it/s]\n"
          ]
        },
        {
          "output_type": "stream",
          "name": "stdout",
          "text": [
            "[train] Epoch: 31 ==== Loss: 0.16282 ==== Accuracy: 0.95026\n"
          ]
        },
        {
          "output_type": "stream",
          "name": "stderr",
          "text": [
            "100%|██████████| 41/41 [00:00<00:00, 106.33it/s]\n"
          ]
        },
        {
          "output_type": "stream",
          "name": "stdout",
          "text": [
            "[test] Epoch: 31 ==== Loss: 0.41758 ==== Accuracy: 0.89774\n"
          ]
        },
        {
          "output_type": "stream",
          "name": "stderr",
          "text": [
            "100%|██████████| 94/94 [00:01<00:00, 63.80it/s]\n"
          ]
        },
        {
          "output_type": "stream",
          "name": "stdout",
          "text": [
            "[train] Epoch: 32 ==== Loss: 0.15778 ==== Accuracy: 0.95182\n"
          ]
        },
        {
          "output_type": "stream",
          "name": "stderr",
          "text": [
            "100%|██████████| 41/41 [00:00<00:00, 83.26it/s]\n"
          ]
        },
        {
          "output_type": "stream",
          "name": "stdout",
          "text": [
            "[test] Epoch: 32 ==== Loss: 0.41577 ==== Accuracy: 0.89903\n"
          ]
        },
        {
          "output_type": "stream",
          "name": "stderr",
          "text": [
            "100%|██████████| 94/94 [00:01<00:00, 69.01it/s]\n"
          ]
        },
        {
          "output_type": "stream",
          "name": "stdout",
          "text": [
            "[train] Epoch: 33 ==== Loss: 0.15303 ==== Accuracy: 0.95327\n"
          ]
        },
        {
          "output_type": "stream",
          "name": "stderr",
          "text": [
            "100%|██████████| 41/41 [00:00<00:00, 115.06it/s]\n"
          ]
        },
        {
          "output_type": "stream",
          "name": "stdout",
          "text": [
            "[test] Epoch: 33 ==== Loss: 0.41328 ==== Accuracy: 0.90048\n"
          ]
        },
        {
          "output_type": "stream",
          "name": "stderr",
          "text": [
            "100%|██████████| 94/94 [00:01<00:00, 80.90it/s]\n"
          ]
        },
        {
          "output_type": "stream",
          "name": "stdout",
          "text": [
            "[train] Epoch: 34 ==== Loss: 0.14855 ==== Accuracy: 0.95465\n"
          ]
        },
        {
          "output_type": "stream",
          "name": "stderr",
          "text": [
            "100%|██████████| 41/41 [00:00<00:00, 114.02it/s]\n"
          ]
        },
        {
          "output_type": "stream",
          "name": "stdout",
          "text": [
            "[test] Epoch: 34 ==== Loss: 0.41129 ==== Accuracy: 0.90161\n"
          ]
        },
        {
          "output_type": "stream",
          "name": "stderr",
          "text": [
            "100%|██████████| 94/94 [00:01<00:00, 81.57it/s]\n"
          ]
        },
        {
          "output_type": "stream",
          "name": "stdout",
          "text": [
            "[train] Epoch: 35 ==== Loss: 0.14433 ==== Accuracy: 0.95594\n"
          ]
        },
        {
          "output_type": "stream",
          "name": "stderr",
          "text": [
            "100%|██████████| 41/41 [00:00<00:00, 116.14it/s]\n"
          ]
        },
        {
          "output_type": "stream",
          "name": "stdout",
          "text": [
            "[test] Epoch: 35 ==== Loss: 0.40884 ==== Accuracy: 0.90282\n"
          ]
        },
        {
          "output_type": "stream",
          "name": "stderr",
          "text": [
            "100%|██████████| 94/94 [00:01<00:00, 80.45it/s]\n"
          ]
        },
        {
          "output_type": "stream",
          "name": "stdout",
          "text": [
            "[train] Epoch: 36 ==== Loss: 0.14033 ==== Accuracy: 0.95717\n"
          ]
        },
        {
          "output_type": "stream",
          "name": "stderr",
          "text": [
            "100%|██████████| 41/41 [00:00<00:00, 118.25it/s]\n"
          ]
        },
        {
          "output_type": "stream",
          "name": "stdout",
          "text": [
            "[test] Epoch: 36 ==== Loss: 0.40743 ==== Accuracy: 0.90393\n"
          ]
        },
        {
          "output_type": "stream",
          "name": "stderr",
          "text": [
            "100%|██████████| 94/94 [00:01<00:00, 80.35it/s]\n"
          ]
        },
        {
          "output_type": "stream",
          "name": "stdout",
          "text": [
            "[train] Epoch: 37 ==== Loss: 0.13655 ==== Accuracy: 0.95832\n"
          ]
        },
        {
          "output_type": "stream",
          "name": "stderr",
          "text": [
            "100%|██████████| 41/41 [00:00<00:00, 109.12it/s]\n"
          ]
        },
        {
          "output_type": "stream",
          "name": "stdout",
          "text": [
            "[test] Epoch: 37 ==== Loss: 0.40531 ==== Accuracy: 0.90496\n"
          ]
        },
        {
          "output_type": "stream",
          "name": "stderr",
          "text": [
            "100%|██████████| 94/94 [00:01<00:00, 80.99it/s]\n"
          ]
        },
        {
          "output_type": "stream",
          "name": "stdout",
          "text": [
            "[train] Epoch: 38 ==== Loss: 0.13297 ==== Accuracy: 0.95942\n"
          ]
        },
        {
          "output_type": "stream",
          "name": "stderr",
          "text": [
            "100%|██████████| 41/41 [00:00<00:00, 119.70it/s]\n"
          ]
        },
        {
          "output_type": "stream",
          "name": "stdout",
          "text": [
            "[test] Epoch: 38 ==== Loss: 0.40357 ==== Accuracy: 0.90589\n"
          ]
        },
        {
          "output_type": "stream",
          "name": "stderr",
          "text": [
            "100%|██████████| 94/94 [00:01<00:00, 81.72it/s]\n"
          ]
        },
        {
          "output_type": "stream",
          "name": "stdout",
          "text": [
            "[train] Epoch: 39 ==== Loss: 0.12957 ==== Accuracy: 0.96046\n"
          ]
        },
        {
          "output_type": "stream",
          "name": "stderr",
          "text": [
            "100%|██████████| 41/41 [00:00<00:00, 102.91it/s]\n"
          ]
        },
        {
          "output_type": "stream",
          "name": "stdout",
          "text": [
            "[test] Epoch: 39 ==== Loss: 0.40202 ==== Accuracy: 0.90677\n"
          ]
        },
        {
          "output_type": "stream",
          "name": "stderr",
          "text": [
            "100%|██████████| 94/94 [00:01<00:00, 62.27it/s]\n"
          ]
        },
        {
          "output_type": "stream",
          "name": "stdout",
          "text": [
            "[train] Epoch: 40 ==== Loss: 0.12634 ==== Accuracy: 0.96145\n"
          ]
        },
        {
          "output_type": "stream",
          "name": "stderr",
          "text": [
            "100%|██████████| 41/41 [00:00<00:00, 83.17it/s]\n"
          ]
        },
        {
          "output_type": "stream",
          "name": "stdout",
          "text": [
            "[test] Epoch: 40 ==== Loss: 0.40057 ==== Accuracy: 0.90766\n"
          ]
        },
        {
          "output_type": "stream",
          "name": "stderr",
          "text": [
            "100%|██████████| 94/94 [00:01<00:00, 70.72it/s]\n"
          ]
        },
        {
          "output_type": "stream",
          "name": "stdout",
          "text": [
            "[train] Epoch: 41 ==== Loss: 0.12326 ==== Accuracy: 0.96239\n"
          ]
        },
        {
          "output_type": "stream",
          "name": "stderr",
          "text": [
            "100%|██████████| 41/41 [00:00<00:00, 115.52it/s]\n"
          ]
        },
        {
          "output_type": "stream",
          "name": "stdout",
          "text": [
            "[test] Epoch: 41 ==== Loss: 0.39876 ==== Accuracy: 0.90853\n"
          ]
        },
        {
          "output_type": "stream",
          "name": "stderr",
          "text": [
            "100%|██████████| 94/94 [00:01<00:00, 80.72it/s]\n"
          ]
        },
        {
          "output_type": "stream",
          "name": "stdout",
          "text": [
            "[train] Epoch: 42 ==== Loss: 0.12034 ==== Accuracy: 0.96328\n"
          ]
        },
        {
          "output_type": "stream",
          "name": "stderr",
          "text": [
            "100%|██████████| 41/41 [00:00<00:00, 108.21it/s]\n"
          ]
        },
        {
          "output_type": "stream",
          "name": "stdout",
          "text": [
            "[test] Epoch: 42 ==== Loss: 0.39776 ==== Accuracy: 0.90929\n"
          ]
        },
        {
          "output_type": "stream",
          "name": "stderr",
          "text": [
            "100%|██████████| 94/94 [00:01<00:00, 81.70it/s]\n"
          ]
        },
        {
          "output_type": "stream",
          "name": "stdout",
          "text": [
            "[train] Epoch: 43 ==== Loss: 0.11754 ==== Accuracy: 0.96414\n"
          ]
        },
        {
          "output_type": "stream",
          "name": "stderr",
          "text": [
            "100%|██████████| 41/41 [00:00<00:00, 113.80it/s]\n"
          ]
        },
        {
          "output_type": "stream",
          "name": "stdout",
          "text": [
            "[test] Epoch: 43 ==== Loss: 0.39609 ==== Accuracy: 0.91016\n"
          ]
        },
        {
          "output_type": "stream",
          "name": "stderr",
          "text": [
            "100%|██████████| 94/94 [00:01<00:00, 81.35it/s]\n"
          ]
        },
        {
          "output_type": "stream",
          "name": "stdout",
          "text": [
            "[train] Epoch: 44 ==== Loss: 0.11527 ==== Accuracy: 0.96483\n"
          ]
        },
        {
          "output_type": "stream",
          "name": "stderr",
          "text": [
            "100%|██████████| 41/41 [00:00<00:00, 109.67it/s]\n"
          ]
        },
        {
          "output_type": "stream",
          "name": "stdout",
          "text": [
            "[test] Epoch: 44 ==== Loss: 0.40003 ==== Accuracy: 0.91024\n"
          ]
        },
        {
          "output_type": "stream",
          "name": "stderr",
          "text": [
            "100%|██████████| 94/94 [00:01<00:00, 81.99it/s]\n"
          ]
        },
        {
          "output_type": "stream",
          "name": "stdout",
          "text": [
            "[train] Epoch: 45 ==== Loss: 0.11678 ==== Accuracy: 0.96457\n"
          ]
        },
        {
          "output_type": "stream",
          "name": "stderr",
          "text": [
            "100%|██████████| 41/41 [00:00<00:00, 118.83it/s]\n"
          ]
        },
        {
          "output_type": "stream",
          "name": "stdout",
          "text": [
            "[test] Epoch: 45 ==== Loss: 0.40671 ==== Accuracy: 0.90944\n"
          ]
        },
        {
          "output_type": "stream",
          "name": "stderr",
          "text": [
            "100%|██████████| 94/94 [00:01<00:00, 82.66it/s]\n"
          ]
        },
        {
          "output_type": "stream",
          "name": "stdout",
          "text": [
            "[train] Epoch: 46 ==== Loss: 0.11719 ==== Accuracy: 0.96447\n"
          ]
        },
        {
          "output_type": "stream",
          "name": "stderr",
          "text": [
            "100%|██████████| 41/41 [00:00<00:00, 113.52it/s]\n"
          ]
        },
        {
          "output_type": "stream",
          "name": "stdout",
          "text": [
            "[test] Epoch: 46 ==== Loss: 0.41256 ==== Accuracy: 0.90912\n"
          ]
        },
        {
          "output_type": "stream",
          "name": "stderr",
          "text": [
            "100%|██████████| 94/94 [00:01<00:00, 82.52it/s]\n"
          ]
        },
        {
          "output_type": "stream",
          "name": "stdout",
          "text": [
            "[train] Epoch: 47 ==== Loss: 0.11630 ==== Accuracy: 0.96474\n"
          ]
        },
        {
          "output_type": "stream",
          "name": "stderr",
          "text": [
            "100%|██████████| 41/41 [00:00<00:00, 115.18it/s]\n"
          ]
        },
        {
          "output_type": "stream",
          "name": "stdout",
          "text": [
            "[test] Epoch: 47 ==== Loss: 0.41384 ==== Accuracy: 0.90923\n"
          ]
        },
        {
          "output_type": "stream",
          "name": "stderr",
          "text": [
            "100%|██████████| 94/94 [00:01<00:00, 64.29it/s]\n"
          ]
        },
        {
          "output_type": "stream",
          "name": "stdout",
          "text": [
            "[train] Epoch: 48 ==== Loss: 0.11452 ==== Accuracy: 0.96529\n"
          ]
        },
        {
          "output_type": "stream",
          "name": "stderr",
          "text": [
            "100%|██████████| 41/41 [00:00<00:00, 84.14it/s]\n"
          ]
        },
        {
          "output_type": "stream",
          "name": "stdout",
          "text": [
            "[test] Epoch: 48 ==== Loss: 0.41488 ==== Accuracy: 0.90937\n"
          ]
        },
        {
          "output_type": "stream",
          "name": "stderr",
          "text": [
            "100%|██████████| 94/94 [00:01<00:00, 68.49it/s]\n"
          ]
        },
        {
          "output_type": "stream",
          "name": "stdout",
          "text": [
            "[train] Epoch: 49 ==== Loss: 0.11253 ==== Accuracy: 0.96589\n"
          ]
        },
        {
          "output_type": "stream",
          "name": "stderr",
          "text": [
            "100%|██████████| 41/41 [00:00<00:00, 113.92it/s]\n"
          ]
        },
        {
          "output_type": "stream",
          "name": "stdout",
          "text": [
            "[test] Epoch: 49 ==== Loss: 0.41496 ==== Accuracy: 0.90972\n"
          ]
        },
        {
          "output_type": "stream",
          "name": "stderr",
          "text": [
            "100%|██████████| 94/94 [00:01<00:00, 78.63it/s]\n"
          ]
        },
        {
          "output_type": "stream",
          "name": "stdout",
          "text": [
            "[train] Epoch: 50 ==== Loss: 0.11041 ==== Accuracy: 0.96654\n"
          ]
        },
        {
          "output_type": "stream",
          "name": "stderr",
          "text": [
            "100%|██████████| 41/41 [00:00<00:00, 114.44it/s]"
          ]
        },
        {
          "output_type": "stream",
          "name": "stdout",
          "text": [
            "[test] Epoch: 50 ==== Loss: 0.41476 ==== Accuracy: 0.91014\n"
          ]
        },
        {
          "output_type": "stream",
          "name": "stderr",
          "text": [
            "\n"
          ]
        }
      ]
    },
    {
      "cell_type": "code",
      "source": [
        "loss_track_simple, accuracy_track_simple = tracks_simple['loss'], tracks_simple['accuracy']\n",
        "loss_track, accuracy_track = tracks['loss'], tracks['accuracy']\n",
        "fig, axes = plt.subplots(1, 2, constrained_layout=True, figsize=(9, 3))\n",
        "\n",
        "axes[0].plot(loss_track_simple['train'], 'b', label='train w/o')\n",
        "axes[0].plot(loss_track['train'], 'b--', label='train')\n",
        "axes[0].plot(loss_track_simple['test'], 'r', label='test w/o')\n",
        "axes[0].plot(loss_track['test'], 'r--', label='test')\n",
        "axes[0].set_title('Model loss')\n",
        "axes[0].legend()\n",
        "\n",
        "axes[1].plot(accuracy_track_simple['train'], 'b', label='train w/o')\n",
        "axes[1].plot(accuracy_track['train'], 'b--', label='train')\n",
        "axes[1].plot(accuracy_track_simple['test'], 'r', label='test w/o')\n",
        "axes[1].plot(accuracy_track['test'], 'r--', label='test')\n",
        "\n",
        "axes[1].set_title('Model accuracy')\n",
        "axes[1].legend()\n",
        "plt.show()\n"
      ],
      "metadata": {
        "colab": {
          "base_uri": "https://localhost:8080/",
          "height": 328
        },
        "id": "-X84CrEZCe90",
        "outputId": "1d51c521-f301-4315-a645-8c39d2108052"
      },
      "execution_count": 27,
      "outputs": [
        {
          "output_type": "display_data",
          "data": {
            "text/plain": [
              "<Figure size 900x300 with 2 Axes>"
            ],
            "image/png": "[encoded data removed]"
          },
          "metadata": {}
        }
      ]
    },
    {
      "cell_type": "markdown",
      "source": [
        "## LSTM"
      ],
      "metadata": {
        "id": "GZUL0nSJF3FG"
      }
    },
    {
      "cell_type": "markdown",
      "source": [
        "Модель LSTM состоит из двух частей: первая часть - сверточная, аналогичная рассмотренной выше; вторая - рекуррентная. В качестве рекуррентного слоя используется двунаправленный LSTM, после него - линейный слой (в отличие от архитектуры CNN, одномерный). Для использования рекуррентного слоя необходимо изменить форму тензора, что и отображено в функции `forward()`. "
      ],
      "metadata": {
        "id": "LuJXRcO4XUxK"
      }
    },
    {
      "cell_type": "code",
      "source": [
        "# initial size (N, 3, 50, 200)\n",
        "class LSTM_model(nn.Module):\n",
        "    def __init__(self):\n",
        "        super(LSTM_model, self).__init__()\n",
        "\n",
        "        self.conv1 = nn.Conv2d(3, 32, kernel_size=(3,3), padding=1)\n",
        "        nn.init.xavier_uniform_(self.conv1.weight)\n",
        "\n",
        "        self.conv2 = nn.Conv2d(32, 64, kernel_size=(3,3), padding=1)\n",
        "        nn.init.xavier_uniform_(self.conv2.weight)\n",
        "\n",
        "        self.pool = nn.MaxPool2d(kernel_size=(2,2))\n",
        "        self.lstm = nn.LSTM(768, 64, bidirectional=True, batch_first=True)\n",
        "\n",
        "        self.final = nn.Linear(128, 20)\n",
        "        nn.init.xavier_uniform_(self.final.weight)\n",
        "\n",
        "    def forward(self, x):\n",
        "        x = self.conv1(x)\n",
        "        x = F.relu(x)\n",
        "        x = self.pool(x)\n",
        "\n",
        "        x = self.conv2(x)\n",
        "        x = F.relu(x)\n",
        "        x = self.pool(x)\n",
        "\n",
        "        N, C, w, h = x.size()\n",
        "        x = x.view(N, -1, h)\n",
        "        x = x.permute(2, 0, 1)\n",
        "        x, _ = self.lstm(x)\n",
        "        return self.final(x)\n",
        "    \n"
      ],
      "metadata": {
        "id": "ODdrCcrbF46Q"
      },
      "execution_count": 28,
      "outputs": []
    },
    {
      "cell_type": "markdown",
      "source": [
        "Подсчет точности модели LSTM также выполняется сравнением предсказанных букв с оригинальными. В данной ситуации, если длина слова не равна 5, то точность его предсказания считается равной 0. Для того, чтобы из вывода модели получить буквы, воспользуемся специальным декодером. Библиотека PyTorch встроенным декодером не обладает, поэтому используется сторонняя библиотека.\n",
        "\n",
        "Также при тренировки модели будет изменяться `learning_rate` оптимизатора для избежания попадания в локальный минимум. Поэтому будет также отображен график изменения `lr` в зависимости от эпохи."
      ],
      "metadata": {
        "id": "j5WNcK4PVqHp"
      }
    },
    {
      "cell_type": "code",
      "source": [
        "def accuracy_lstm(out, labels, decoder):\n",
        "    out = nn.functional.log_softmax(out, dim=2)\n",
        "    out = out.permute(1, 0, 2)\n",
        "\n",
        "    beam_results, beam_scores, timesteps, out_len = decoder.decode(out)\n",
        "    N = len(labels)\n",
        "    acc = 0\n",
        "    for i in range(N):\n",
        "        preds = beam_results[i][0][:out_len[i][0]].numpy()\n",
        "        if len(preds) == 5:\n",
        "            acc += np.sum(preds == labels[i]) / 5\n",
        "    return acc / N"
      ],
      "metadata": {
        "id": "sJZUQc3FjRzB"
      },
      "execution_count": 29,
      "outputs": []
    },
    {
      "cell_type": "code",
      "source": [
        "def train_test_LSTM(model, loaders, optimizer, scheduler, decoder, epochs=1):\n",
        "    model = model.to(device)\n",
        "    loss_meter = {'train': ValueMeter(), 'test': ValueMeter()}\n",
        "    accuracy_meter = {'train': ValueMeter(), 'test': ValueMeter()}\n",
        "\n",
        "    loss_track = {'train': [], 'test': []}\n",
        "    accuracy_track = {'train': [], 'test': []}\n",
        "    lr = []\n",
        "\n",
        "    for epoch in range(epochs):\n",
        "        for mode in ['train', 'test']:\n",
        "            with torch.set_grad_enabled(mode == 'train'):\n",
        "                model.train() if mode == 'train' else model.eval()\n",
        "                for x, y in tqdm(loaders[mode]):\n",
        "                    \n",
        "                    x = x.to(device, dtype=dtype)  # move to device, e.g. GPU\n",
        "                    y = torch.stack(y, dim=1).to(device, dtype=torch.long)\n",
        "                    \n",
        "                    out = model(x)\n",
        "                    T, N = out.size(0), out.size(1)\n",
        "                \n",
        "                    scores = nn.functional.log_softmax(out, dim=2)\n",
        "                    input_lengths = torch.full(size=(N,), fill_value=T, dtype=torch.int32)\n",
        "                    target_lengths = torch.full(size=(N,), fill_value=5, dtype=torch.int32)\n",
        "                    \n",
        "                    loss = criterion(scores, y, input_lengths=input_lengths, target_lengths=target_lengths)\n",
        "                    acc = accuracy_lstm(out, y.cpu().numpy(), decoder)\n",
        "\n",
        "                    if mode == 'train':\n",
        "                        optimizer.zero_grad()\n",
        "                        loss.backward()\n",
        "                        optimizer.step()\n",
        "                        scheduler.step()\n",
        "\n",
        "                    batch_size = y.shape[0]\n",
        "\n",
        "                    loss_meter[mode].add(loss.item(), batch_size)\n",
        "                    accuracy_meter[mode].add(acc, batch_size)\n",
        "                    \n",
        "            log(mode, epoch, loss_meter[mode], accuracy_meter[mode])\n",
        "            loss_track[mode].append(loss_meter[mode].value())\n",
        "            accuracy_track[mode].append(accuracy_meter[mode].value())\n",
        "        lr += [scheduler.get_last_lr()]\n",
        "        print(f\"Epoch: {epoch+1} ==== learning rate: {scheduler.get_last_lr()}\")\n",
        "\n",
        "    return {'loss': loss_track, 'accuracy': accuracy_track, 'learning_rate': lr}"
      ],
      "metadata": {
        "id": "SIbBpA6_H3e8"
      },
      "execution_count": 30,
      "outputs": []
    },
    {
      "cell_type": "code",
      "source": [
        "loader_train = DataLoader(train_dataset, batch_size=8, shuffle=True)\n",
        "loader_test = DataLoader(test_dataset, batch_size=8, shuffle=False)\n",
        "\n",
        "loaders = {'train': loader_train, 'test': loader_test}"
      ],
      "metadata": {
        "id": "pWSzGiWHWSnM"
      },
      "execution_count": 31,
      "outputs": []
    },
    {
      "cell_type": "code",
      "source": [
        "model = LSTM_model()\n",
        "epochs = 100\n",
        "optimizer = optim.Adam(model.parameters(), lr=1e-3)\n",
        "\n",
        "scheduler = optim.lr_scheduler.OneCycleLR(optimizer, max_lr=1e-2, epochs=epochs, steps_per_epoch=94, div_factor=10, pct_start=0.2)\n",
        "\n",
        "criterion = torch.nn.CTCLoss(blank=19, zero_infinity=False)\n",
        "\n",
        "labels_list = list(char2num.keys()) + list('_')\n",
        "decoder = CTCBeamDecoder(labels_list, blank_id=19, log_probs_input=True, alpha=1)"
      ],
      "metadata": {
        "id": "PsSXZuoDK9Cz"
      },
      "execution_count": 32,
      "outputs": []
    },
    {
      "cell_type": "code",
      "source": [
        "tracks = train_test_LSTM(model, loaders, optimizer, scheduler, decoder, epochs=epochs)"
      ],
      "metadata": {
        "id": "qVsIUw6BIHpt",
        "colab": {
          "base_uri": "https://localhost:8080/"
        },
        "outputId": "cdcb8ef5-a911-4bbf-b47d-2cddddc7111b"
      },
      "execution_count": 33,
      "outputs": [
        {
          "output_type": "stream",
          "name": "stderr",
          "text": [
            "100%|██████████| 94/94 [00:12<00:00,  7.72it/s]\n"
          ]
        },
        {
          "output_type": "stream",
          "name": "stdout",
          "text": [
            "[train] Epoch: 1 ==== Loss: 4.40764 ==== Accuracy: 0.00027\n"
          ]
        },
        {
          "output_type": "stream",
          "name": "stderr",
          "text": [
            "100%|██████████| 41/41 [00:02<00:00, 14.32it/s]\n"
          ]
        },
        {
          "output_type": "stream",
          "name": "stdout",
          "text": [
            "[test] Epoch: 1 ==== Loss: 3.31272 ==== Accuracy: 0.00000\n",
            "Epoch: 1 ==== learning rate: [0.0010554613317121271]\n"
          ]
        },
        {
          "output_type": "stream",
          "name": "stderr",
          "text": [
            "100%|██████████| 94/94 [00:07<00:00, 12.58it/s]\n"
          ]
        },
        {
          "output_type": "stream",
          "name": "stdout",
          "text": [
            "[train] Epoch: 2 ==== Loss: 3.84962 ==== Accuracy: 0.00013\n"
          ]
        },
        {
          "output_type": "stream",
          "name": "stderr",
          "text": [
            "100%|██████████| 41/41 [00:03<00:00, 11.48it/s]\n"
          ]
        },
        {
          "output_type": "stream",
          "name": "stdout",
          "text": [
            "[test] Epoch: 2 ==== Loss: 3.29458 ==== Accuracy: 0.00000\n",
            "Epoch: 2 ==== learning rate: [0.001220478233819499]\n"
          ]
        },
        {
          "output_type": "stream",
          "name": "stderr",
          "text": [
            "100%|██████████| 94/94 [00:06<00:00, 13.62it/s]\n"
          ]
        },
        {
          "output_type": "stream",
          "name": "stdout",
          "text": [
            "[train] Epoch: 3 ==== Loss: 3.64960 ==== Accuracy: 0.00009\n"
          ]
        },
        {
          "output_type": "stream",
          "name": "stderr",
          "text": [
            "100%|██████████| 41/41 [00:03<00:00, 12.00it/s]\n"
          ]
        },
        {
          "output_type": "stream",
          "name": "stdout",
          "text": [
            "[test] Epoch: 3 ==== Loss: 3.26635 ==== Accuracy: 0.00000\n",
            "Epoch: 3 ==== learning rate: [0.0014909831253683888]\n"
          ]
        },
        {
          "output_type": "stream",
          "name": "stderr",
          "text": [
            "100%|██████████| 94/94 [00:07<00:00, 12.32it/s]\n"
          ]
        },
        {
          "output_type": "stream",
          "name": "stdout",
          "text": [
            "[train] Epoch: 4 ==== Loss: 3.50948 ==== Accuracy: 0.00007\n"
          ]
        },
        {
          "output_type": "stream",
          "name": "stderr",
          "text": [
            "100%|██████████| 41/41 [00:02<00:00, 14.33it/s]\n"
          ]
        },
        {
          "output_type": "stream",
          "name": "stdout",
          "text": [
            "[test] Epoch: 4 ==== Loss: 3.17725 ==== Accuracy: 0.00000\n",
            "Epoch: 4 ==== learning rate: [0.0018603082012388153]\n"
          ]
        },
        {
          "output_type": "stream",
          "name": "stderr",
          "text": [
            "100%|██████████| 94/94 [00:08<00:00, 11.06it/s]\n"
          ]
        },
        {
          "output_type": "stream",
          "name": "stdout",
          "text": [
            "[train] Epoch: 5 ==== Loss: 3.31538 ==== Accuracy: 0.00005\n"
          ]
        },
        {
          "output_type": "stream",
          "name": "stderr",
          "text": [
            "100%|██████████| 41/41 [00:03<00:00, 13.34it/s]\n"
          ]
        },
        {
          "output_type": "stream",
          "name": "stdout",
          "text": [
            "[test] Epoch: 5 ==== Loss: 2.94988 ==== Accuracy: 0.00062\n",
            "Epoch: 5 ==== learning rate: [0.0023193497900785816]\n"
          ]
        },
        {
          "output_type": "stream",
          "name": "stderr",
          "text": [
            "100%|██████████| 94/94 [00:08<00:00, 10.48it/s]\n"
          ]
        },
        {
          "output_type": "stream",
          "name": "stdout",
          "text": [
            "[train] Epoch: 6 ==== Loss: 3.01078 ==== Accuracy: 0.00872\n"
          ]
        },
        {
          "output_type": "stream",
          "name": "stderr",
          "text": [
            "100%|██████████| 41/41 [00:03<00:00, 13.07it/s]\n"
          ]
        },
        {
          "output_type": "stream",
          "name": "stdout",
          "text": [
            "[test] Epoch: 6 ==== Loss: 2.62748 ==== Accuracy: 0.02150\n",
            "Epoch: 6 ==== learning rate: [0.0028567927550751035]\n"
          ]
        },
        {
          "output_type": "stream",
          "name": "stderr",
          "text": [
            "100%|██████████| 94/94 [00:09<00:00,  9.78it/s]\n"
          ]
        },
        {
          "output_type": "stream",
          "name": "stdout",
          "text": [
            "[train] Epoch: 7 ==== Loss: 2.69219 ==== Accuracy: 0.05226\n"
          ]
        },
        {
          "output_type": "stream",
          "name": "stderr",
          "text": [
            "100%|██████████| 41/41 [00:03<00:00, 12.61it/s]\n"
          ]
        },
        {
          "output_type": "stream",
          "name": "stdout",
          "text": [
            "[test] Epoch: 7 ==== Loss: 2.34397 ==== Accuracy: 0.08278\n",
            "Epoch: 7 ==== learning rate: [0.003459389406202596]\n"
          ]
        },
        {
          "output_type": "stream",
          "name": "stderr",
          "text": [
            "100%|██████████| 94/94 [00:08<00:00, 10.46it/s]\n"
          ]
        },
        {
          "output_type": "stream",
          "name": "stdout",
          "text": [
            "[train] Epoch: 8 ==== Loss: 2.42516 ==== Accuracy: 0.09963\n"
          ]
        },
        {
          "output_type": "stream",
          "name": "stderr",
          "text": [
            "100%|██████████| 41/41 [00:03<00:00, 12.11it/s]\n"
          ]
        },
        {
          "output_type": "stream",
          "name": "stdout",
          "text": [
            "[test] Epoch: 8 ==== Loss: 2.11131 ==== Accuracy: 0.13294\n",
            "Epoch: 8 ==== learning rate: [0.004112286048902481]\n"
          ]
        },
        {
          "output_type": "stream",
          "name": "stderr",
          "text": [
            "100%|██████████| 94/94 [00:08<00:00, 11.06it/s]\n"
          ]
        },
        {
          "output_type": "stream",
          "name": "stdout",
          "text": [
            "[train] Epoch: 9 ==== Loss: 2.20633 ==== Accuracy: 0.15054\n"
          ]
        },
        {
          "output_type": "stream",
          "name": "stderr",
          "text": [
            "100%|██████████| 41/41 [00:04<00:00, 10.15it/s]\n"
          ]
        },
        {
          "output_type": "stream",
          "name": "stdout",
          "text": [
            "[test] Epoch: 9 ==== Loss: 1.92899 ==== Accuracy: 0.18609\n",
            "Epoch: 9 ==== learning rate: [0.0047993891199416385]\n"
          ]
        },
        {
          "output_type": "stream",
          "name": "stderr",
          "text": [
            "100%|██████████| 94/94 [00:07<00:00, 11.94it/s]\n"
          ]
        },
        {
          "output_type": "stream",
          "name": "stdout",
          "text": [
            "[train] Epoch: 10 ==== Loss: 2.02311 ==== Accuracy: 0.20005\n"
          ]
        },
        {
          "output_type": "stream",
          "name": "stderr",
          "text": [
            "100%|██████████| 41/41 [00:04<00:00,  8.89it/s]\n"
          ]
        },
        {
          "output_type": "stream",
          "name": "stdout",
          "text": [
            "[test] Epoch: 10 ==== Loss: 1.77441 ==== Accuracy: 0.23283\n",
            "Epoch: 10 ==== learning rate: [0.005503761885389706]\n"
          ]
        },
        {
          "output_type": "stream",
          "name": "stderr",
          "text": [
            "100%|██████████| 94/94 [00:08<00:00, 11.65it/s]\n"
          ]
        },
        {
          "output_type": "stream",
          "name": "stdout",
          "text": [
            "[train] Epoch: 11 ==== Loss: 1.86717 ==== Accuracy: 0.24743\n"
          ]
        },
        {
          "output_type": "stream",
          "name": "stderr",
          "text": [
            "100%|██████████| 41/41 [00:05<00:00,  8.13it/s]\n"
          ]
        },
        {
          "output_type": "stream",
          "name": "stdout",
          "text": [
            "[test] Epoch: 11 ==== Loss: 1.64828 ==== Accuracy: 0.26661\n",
            "Epoch: 11 ==== learning rate: [0.006208041922316235]\n"
          ]
        },
        {
          "output_type": "stream",
          "name": "stderr",
          "text": [
            "100%|██████████| 94/94 [00:09<00:00, 10.42it/s]\n"
          ]
        },
        {
          "output_type": "stream",
          "name": "stdout",
          "text": [
            "[train] Epoch: 12 ==== Loss: 1.73677 ==== Accuracy: 0.28652\n"
          ]
        },
        {
          "output_type": "stream",
          "name": "stderr",
          "text": [
            "100%|██████████| 41/41 [00:03<00:00, 12.47it/s]\n"
          ]
        },
        {
          "output_type": "stream",
          "name": "stdout",
          "text": [
            "[test] Epoch: 12 ==== Loss: 1.53742 ==== Accuracy: 0.29964\n",
            "Epoch: 12 ==== learning rate: [0.006894869093500686]\n"
          ]
        },
        {
          "output_type": "stream",
          "name": "stderr",
          "text": [
            "100%|██████████| 94/94 [00:09<00:00, 10.20it/s]\n"
          ]
        },
        {
          "output_type": "stream",
          "name": "stdout",
          "text": [
            "[train] Epoch: 13 ==== Loss: 1.62295 ==== Accuracy: 0.32316\n"
          ]
        },
        {
          "output_type": "stream",
          "name": "stderr",
          "text": [
            "100%|██████████| 41/41 [00:03<00:00, 12.48it/s]\n"
          ]
        },
        {
          "output_type": "stream",
          "name": "stdout",
          "text": [
            "[test] Epoch: 13 ==== Loss: 1.44260 ==== Accuracy: 0.33276\n",
            "Epoch: 13 ==== learning rate: [0.007547313465800855]\n"
          ]
        },
        {
          "output_type": "stream",
          "name": "stderr",
          "text": [
            "100%|██████████| 94/94 [00:09<00:00, 10.24it/s]\n"
          ]
        },
        {
          "output_type": "stream",
          "name": "stdout",
          "text": [
            "[train] Epoch: 14 ==== Loss: 1.52552 ==== Accuracy: 0.35409\n"
          ]
        },
        {
          "output_type": "stream",
          "name": "stderr",
          "text": [
            "100%|██████████| 41/41 [00:03<00:00, 12.72it/s]\n"
          ]
        },
        {
          "output_type": "stream",
          "name": "stdout",
          "text": [
            "[test] Epoch: 14 ==== Loss: 1.36752 ==== Accuracy: 0.35260\n",
            "Epoch: 14 ==== learning rate: [0.008149292624214138]\n"
          ]
        },
        {
          "output_type": "stream",
          "name": "stderr",
          "text": [
            "100%|██████████| 94/94 [00:09<00:00, 10.19it/s]\n"
          ]
        },
        {
          "output_type": "stream",
          "name": "stdout",
          "text": [
            "[train] Epoch: 15 ==== Loss: 1.44012 ==== Accuracy: 0.38287\n"
          ]
        },
        {
          "output_type": "stream",
          "name": "stderr",
          "text": [
            "100%|██████████| 41/41 [00:03<00:00, 12.61it/s]\n"
          ]
        },
        {
          "output_type": "stream",
          "name": "stdout",
          "text": [
            "[test] Epoch: 15 ==== Loss: 1.29414 ==== Accuracy: 0.37499\n",
            "Epoch: 15 ==== learning rate: [0.008685968095056739]\n"
          ]
        },
        {
          "output_type": "stream",
          "name": "stderr",
          "text": [
            "100%|██████████| 94/94 [00:09<00:00, 10.27it/s]\n"
          ]
        },
        {
          "output_type": "stream",
          "name": "stdout",
          "text": [
            "[train] Epoch: 16 ==== Loss: 1.36332 ==== Accuracy: 0.40975\n"
          ]
        },
        {
          "output_type": "stream",
          "name": "stderr",
          "text": [
            "100%|██████████| 41/41 [00:03<00:00, 12.66it/s]\n"
          ]
        },
        {
          "output_type": "stream",
          "name": "stdout",
          "text": [
            "[test] Epoch: 16 ==== Loss: 1.23026 ==== Accuracy: 0.39576\n",
            "Epoch: 16 ==== learning rate: [0.009144111106635251]\n"
          ]
        },
        {
          "output_type": "stream",
          "name": "stderr",
          "text": [
            "100%|██████████| 94/94 [00:09<00:00, 10.18it/s]\n"
          ]
        },
        {
          "output_type": "stream",
          "name": "stdout",
          "text": [
            "[train] Epoch: 17 ==== Loss: 1.29483 ==== Accuracy: 0.43357\n"
          ]
        },
        {
          "output_type": "stream",
          "name": "stderr",
          "text": [
            "100%|██████████| 41/41 [00:03<00:00, 12.50it/s]\n"
          ]
        },
        {
          "output_type": "stream",
          "name": "stdout",
          "text": [
            "[test] Epoch: 17 ==== Loss: 1.17251 ==== Accuracy: 0.41646\n",
            "Epoch: 17 ==== learning rate: [0.009512428671600006]\n"
          ]
        },
        {
          "output_type": "stream",
          "name": "stderr",
          "text": [
            "100%|██████████| 94/94 [00:08<00:00, 10.73it/s]\n"
          ]
        },
        {
          "output_type": "stream",
          "name": "stdout",
          "text": [
            "[train] Epoch: 18 ==== Loss: 1.23404 ==== Accuracy: 0.45419\n"
          ]
        },
        {
          "output_type": "stream",
          "name": "stderr",
          "text": [
            "100%|██████████| 41/41 [00:03<00:00, 11.02it/s]\n"
          ]
        },
        {
          "output_type": "stream",
          "name": "stdout",
          "text": [
            "[test] Epoch: 18 ==== Loss: 1.12395 ==== Accuracy: 0.43236\n",
            "Epoch: 18 ==== learning rate: [0.009781841953219489]\n"
          ]
        },
        {
          "output_type": "stream",
          "name": "stderr",
          "text": [
            "100%|██████████| 94/94 [00:07<00:00, 11.78it/s]\n"
          ]
        },
        {
          "output_type": "stream",
          "name": "stdout",
          "text": [
            "[train] Epoch: 19 ==== Loss: 1.18057 ==== Accuracy: 0.47135\n"
          ]
        },
        {
          "output_type": "stream",
          "name": "stderr",
          "text": [
            "100%|██████████| 41/41 [00:04<00:00,  9.26it/s]\n"
          ]
        },
        {
          "output_type": "stream",
          "name": "stdout",
          "text": [
            "[test] Epoch: 19 ==== Loss: 1.07960 ==== Accuracy: 0.44729\n",
            "Epoch: 19 ==== learning rate: [0.009945710053991676]\n"
          ]
        },
        {
          "output_type": "stream",
          "name": "stderr",
          "text": [
            "100%|██████████| 94/94 [00:07<00:00, 11.97it/s]\n"
          ]
        },
        {
          "output_type": "stream",
          "name": "stdout",
          "text": [
            "[train] Epoch: 20 ==== Loss: 1.13142 ==== Accuracy: 0.48842\n"
          ]
        },
        {
          "output_type": "stream",
          "name": "stderr",
          "text": [
            "100%|██████████| 41/41 [00:04<00:00,  9.19it/s]\n"
          ]
        },
        {
          "output_type": "stream",
          "name": "stdout",
          "text": [
            "[test] Epoch: 20 ==== Loss: 1.03743 ==== Accuracy: 0.46243\n",
            "Epoch: 20 ==== learning rate: [0.009999999563685422]\n"
          ]
        },
        {
          "output_type": "stream",
          "name": "stderr",
          "text": [
            "100%|██████████| 94/94 [00:08<00:00, 11.70it/s]\n"
          ]
        },
        {
          "output_type": "stream",
          "name": "stdout",
          "text": [
            "[train] Epoch: 21 ==== Loss: 1.08653 ==== Accuracy: 0.50390\n"
          ]
        },
        {
          "output_type": "stream",
          "name": "stderr",
          "text": [
            "100%|██████████| 41/41 [00:03<00:00, 10.92it/s]\n"
          ]
        },
        {
          "output_type": "stream",
          "name": "stdout",
          "text": [
            "[test] Epoch: 21 ==== Loss: 1.00054 ==== Accuracy: 0.47168\n",
            "Epoch: 21 ==== learning rate: [0.00999606277771523]\n"
          ]
        },
        {
          "output_type": "stream",
          "name": "stderr",
          "text": [
            "100%|██████████| 94/94 [00:08<00:00, 10.67it/s]\n"
          ]
        },
        {
          "output_type": "stream",
          "name": "stdout",
          "text": [
            "[train] Epoch: 22 ==== Loss: 1.04709 ==== Accuracy: 0.51634\n"
          ]
        },
        {
          "output_type": "stream",
          "name": "stderr",
          "text": [
            "100%|██████████| 41/41 [00:03<00:00, 12.64it/s]\n"
          ]
        },
        {
          "output_type": "stream",
          "name": "stdout",
          "text": [
            "[test] Epoch: 22 ==== Loss: 0.96929 ==== Accuracy: 0.47958\n",
            "Epoch: 22 ==== learning rate: [0.009984422502160032]\n"
          ]
        },
        {
          "output_type": "stream",
          "name": "stderr",
          "text": [
            "100%|██████████| 94/94 [00:09<00:00, 10.25it/s]\n"
          ]
        },
        {
          "output_type": "stream",
          "name": "stdout",
          "text": [
            "[train] Epoch: 23 ==== Loss: 1.01115 ==== Accuracy: 0.52795\n"
          ]
        },
        {
          "output_type": "stream",
          "name": "stderr",
          "text": [
            "100%|██████████| 41/41 [00:03<00:00, 12.55it/s]\n"
          ]
        },
        {
          "output_type": "stream",
          "name": "stdout",
          "text": [
            "[test] Epoch: 23 ==== Loss: 0.93711 ==== Accuracy: 0.49194\n",
            "Epoch: 23 ==== learning rate: [0.009965096685481028]\n"
          ]
        },
        {
          "output_type": "stream",
          "name": "stderr",
          "text": [
            "100%|██████████| 94/94 [00:09<00:00, 10.22it/s]\n"
          ]
        },
        {
          "output_type": "stream",
          "name": "stdout",
          "text": [
            "[train] Epoch: 24 ==== Loss: 0.97707 ==== Accuracy: 0.54052\n"
          ]
        },
        {
          "output_type": "stream",
          "name": "stderr",
          "text": [
            "100%|██████████| 41/41 [00:03<00:00, 12.59it/s]\n"
          ]
        },
        {
          "output_type": "stream",
          "name": "stdout",
          "text": [
            "[test] Epoch: 24 ==== Loss: 0.90702 ==== Accuracy: 0.50382\n",
            "Epoch: 24 ==== learning rate: [0.009938115126686775]\n"
          ]
        },
        {
          "output_type": "stream",
          "name": "stderr",
          "text": [
            "100%|██████████| 94/94 [00:09<00:00, 10.23it/s]\n"
          ]
        },
        {
          "output_type": "stream",
          "name": "stdout",
          "text": [
            "[train] Epoch: 25 ==== Loss: 0.94499 ==== Accuracy: 0.55315\n"
          ]
        },
        {
          "output_type": "stream",
          "name": "stderr",
          "text": [
            "100%|██████████| 41/41 [00:03<00:00, 12.46it/s]\n"
          ]
        },
        {
          "output_type": "stream",
          "name": "stdout",
          "text": [
            "[test] Epoch: 25 ==== Loss: 0.88105 ==== Accuracy: 0.51237\n",
            "Epoch: 25 ==== learning rate: [0.009903519429385272]\n"
          ]
        },
        {
          "output_type": "stream",
          "name": "stderr",
          "text": [
            "100%|██████████| 94/94 [00:09<00:00, 10.27it/s]\n"
          ]
        },
        {
          "output_type": "stream",
          "name": "stdout",
          "text": [
            "[train] Epoch: 26 ==== Loss: 0.91630 ==== Accuracy: 0.56268\n"
          ]
        },
        {
          "output_type": "stream",
          "name": "stderr",
          "text": [
            "100%|██████████| 41/41 [00:03<00:00, 12.60it/s]\n"
          ]
        },
        {
          "output_type": "stream",
          "name": "stdout",
          "text": [
            "[test] Epoch: 26 ==== Loss: 0.85599 ==== Accuracy: 0.52257\n",
            "Epoch: 26 ==== learning rate: [0.00986136293763421]\n"
          ]
        },
        {
          "output_type": "stream",
          "name": "stderr",
          "text": [
            "100%|██████████| 94/94 [00:09<00:00, 10.24it/s]\n"
          ]
        },
        {
          "output_type": "stream",
          "name": "stdout",
          "text": [
            "[train] Epoch: 27 ==== Loss: 0.88859 ==== Accuracy: 0.57315\n"
          ]
        },
        {
          "output_type": "stream",
          "name": "stderr",
          "text": [
            "100%|██████████| 41/41 [00:03<00:00, 12.59it/s]\n"
          ]
        },
        {
          "output_type": "stream",
          "name": "stdout",
          "text": [
            "[test] Epoch: 27 ==== Loss: 0.83225 ==== Accuracy: 0.53163\n",
            "Epoch: 27 ==== learning rate: [0.009811710653688306]\n"
          ]
        },
        {
          "output_type": "stream",
          "name": "stderr",
          "text": [
            "100%|██████████| 94/94 [00:08<00:00, 10.54it/s]\n"
          ]
        },
        {
          "output_type": "stream",
          "name": "stdout",
          "text": [
            "[train] Epoch: 28 ==== Loss: 0.86391 ==== Accuracy: 0.58178\n"
          ]
        },
        {
          "output_type": "stream",
          "name": "stderr",
          "text": [
            "100%|██████████| 41/41 [00:03<00:00, 11.32it/s]\n"
          ]
        },
        {
          "output_type": "stream",
          "name": "stdout",
          "text": [
            "[test] Epoch: 28 ==== Loss: 0.80940 ==== Accuracy: 0.54014\n",
            "Epoch: 28 ==== learning rate: [0.009754639137770537]\n"
          ]
        },
        {
          "output_type": "stream",
          "name": "stderr",
          "text": [
            "100%|██████████| 94/94 [00:08<00:00, 11.52it/s]\n"
          ]
        },
        {
          "output_type": "stream",
          "name": "stdout",
          "text": [
            "[train] Epoch: 29 ==== Loss: 0.83917 ==== Accuracy: 0.59196\n"
          ]
        },
        {
          "output_type": "stream",
          "name": "stderr",
          "text": [
            "100%|██████████| 41/41 [00:04<00:00,  9.45it/s]\n"
          ]
        },
        {
          "output_type": "stream",
          "name": "stdout",
          "text": [
            "[test] Epoch: 29 ==== Loss: 0.78838 ==== Accuracy: 0.54998\n",
            "Epoch: 29 ==== learning rate: [0.00969023639002182]\n"
          ]
        },
        {
          "output_type": "stream",
          "name": "stderr",
          "text": [
            "100%|██████████| 94/94 [00:07<00:00, 11.85it/s]\n"
          ]
        },
        {
          "output_type": "stream",
          "name": "stdout",
          "text": [
            "[train] Epoch: 30 ==== Loss: 0.81614 ==== Accuracy: 0.60128\n"
          ]
        },
        {
          "output_type": "stream",
          "name": "stderr",
          "text": [
            "100%|██████████| 41/41 [00:04<00:00,  9.13it/s]\n"
          ]
        },
        {
          "output_type": "stream",
          "name": "stdout",
          "text": [
            "[test] Epoch: 30 ==== Loss: 0.76897 ==== Accuracy: 0.55772\n",
            "Epoch: 30 ==== learning rate: [0.009618601714811182]\n"
          ]
        },
        {
          "output_type": "stream",
          "name": "stderr",
          "text": [
            "100%|██████████| 94/94 [00:07<00:00, 11.82it/s]\n"
          ]
        },
        {
          "output_type": "stream",
          "name": "stdout",
          "text": [
            "[train] Epoch: 31 ==== Loss: 0.79638 ==== Accuracy: 0.60775\n"
          ]
        },
        {
          "output_type": "stream",
          "name": "stderr",
          "text": [
            "100%|██████████| 41/41 [00:03<00:00, 10.68it/s]\n"
          ]
        },
        {
          "output_type": "stream",
          "name": "stdout",
          "text": [
            "[test] Epoch: 31 ==== Loss: 0.75295 ==== Accuracy: 0.56256\n",
            "Epoch: 31 ==== learning rate: [0.00953984556761561]\n"
          ]
        },
        {
          "output_type": "stream",
          "name": "stderr",
          "text": [
            "100%|██████████| 94/94 [00:09<00:00, 10.40it/s]\n"
          ]
        },
        {
          "output_type": "stream",
          "name": "stdout",
          "text": [
            "[train] Epoch: 32 ==== Loss: 0.77681 ==== Accuracy: 0.61456\n"
          ]
        },
        {
          "output_type": "stream",
          "name": "stderr",
          "text": [
            "100%|██████████| 41/41 [00:04<00:00,  8.58it/s]\n"
          ]
        },
        {
          "output_type": "stream",
          "name": "stdout",
          "text": [
            "[test] Epoch: 32 ==== Loss: 0.73644 ==== Accuracy: 0.56947\n",
            "Epoch: 32 ==== learning rate: [0.009454089384705721]\n"
          ]
        },
        {
          "output_type": "stream",
          "name": "stderr",
          "text": [
            "100%|██████████| 94/94 [00:08<00:00, 10.84it/s]\n"
          ]
        },
        {
          "output_type": "stream",
          "name": "stdout",
          "text": [
            "[train] Epoch: 33 ==== Loss: 0.75872 ==== Accuracy: 0.62097\n"
          ]
        },
        {
          "output_type": "stream",
          "name": "stderr",
          "text": [
            "100%|██████████| 41/41 [00:03<00:00, 12.58it/s]\n"
          ]
        },
        {
          "output_type": "stream",
          "name": "stdout",
          "text": [
            "[test] Epoch: 33 ==== Loss: 0.72239 ==== Accuracy: 0.57411\n",
            "Epoch: 33 ==== learning rate: [0.009361465395899831]\n"
          ]
        },
        {
          "output_type": "stream",
          "name": "stderr",
          "text": [
            "100%|██████████| 94/94 [00:09<00:00, 10.23it/s]\n"
          ]
        },
        {
          "output_type": "stream",
          "name": "stdout",
          "text": [
            "[train] Epoch: 34 ==== Loss: 0.74114 ==== Accuracy: 0.62772\n"
          ]
        },
        {
          "output_type": "stream",
          "name": "stderr",
          "text": [
            "100%|██████████| 41/41 [00:03<00:00, 12.62it/s]\n"
          ]
        },
        {
          "output_type": "stream",
          "name": "stdout",
          "text": [
            "[test] Epoch: 34 ==== Loss: 0.70889 ==== Accuracy: 0.57783\n",
            "Epoch: 34 ==== learning rate: [0.009262116420675159]\n"
          ]
        },
        {
          "output_type": "stream",
          "name": "stderr",
          "text": [
            "100%|██████████| 94/94 [00:09<00:00, 10.15it/s]\n"
          ]
        },
        {
          "output_type": "stream",
          "name": "stdout",
          "text": [
            "[train] Epoch: 35 ==== Loss: 0.72423 ==== Accuracy: 0.63431\n"
          ]
        },
        {
          "output_type": "stream",
          "name": "stderr",
          "text": [
            "100%|██████████| 41/41 [00:03<00:00, 12.72it/s]\n"
          ]
        },
        {
          "output_type": "stream",
          "name": "stdout",
          "text": [
            "[test] Epoch: 35 ==== Loss: 0.69460 ==== Accuracy: 0.58409\n",
            "Epoch: 35 ==== learning rate: [0.00915619564795054]\n"
          ]
        },
        {
          "output_type": "stream",
          "name": "stderr",
          "text": [
            "100%|██████████| 94/94 [00:09<00:00, 10.24it/s]\n"
          ]
        },
        {
          "output_type": "stream",
          "name": "stdout",
          "text": [
            "[train] Epoch: 36 ==== Loss: 0.70877 ==== Accuracy: 0.63936\n"
          ]
        },
        {
          "output_type": "stream",
          "name": "stderr",
          "text": [
            "100%|██████████| 41/41 [00:03<00:00, 12.59it/s]\n"
          ]
        },
        {
          "output_type": "stream",
          "name": "stdout",
          "text": [
            "[test] Epoch: 36 ==== Loss: 0.68189 ==== Accuracy: 0.58842\n",
            "Epoch: 36 ==== learning rate: [0.009043866399880227]\n"
          ]
        },
        {
          "output_type": "stream",
          "name": "stderr",
          "text": [
            "100%|██████████| 94/94 [00:09<00:00, 10.13it/s]\n"
          ]
        },
        {
          "output_type": "stream",
          "name": "stdout",
          "text": [
            "[train] Epoch: 37 ==== Loss: 0.69388 ==== Accuracy: 0.64523\n"
          ]
        },
        {
          "output_type": "stream",
          "name": "stderr",
          "text": [
            "100%|██████████| 41/41 [00:03<00:00, 12.39it/s]\n"
          ]
        },
        {
          "output_type": "stream",
          "name": "stdout",
          "text": [
            "[test] Epoch: 37 ==== Loss: 0.66868 ==== Accuracy: 0.59365\n",
            "Epoch: 37 ==== learning rate: [0.008925301880022959]\n"
          ]
        },
        {
          "output_type": "stream",
          "name": "stderr",
          "text": [
            "100%|██████████| 94/94 [00:09<00:00, 10.20it/s]\n"
          ]
        },
        {
          "output_type": "stream",
          "name": "stdout",
          "text": [
            "[train] Epoch: 38 ==== Loss: 0.67956 ==== Accuracy: 0.65125\n"
          ]
        },
        {
          "output_type": "stream",
          "name": "stderr",
          "text": [
            "100%|██████████| 41/41 [00:03<00:00, 12.62it/s]\n"
          ]
        },
        {
          "output_type": "stream",
          "name": "stdout",
          "text": [
            "[test] Epoch: 38 ==== Loss: 0.65600 ==== Accuracy: 0.59882\n",
            "Epoch: 38 ==== learning rate: [0.008800684906274628]\n"
          ]
        },
        {
          "output_type": "stream",
          "name": "stderr",
          "text": [
            "100%|██████████| 94/94 [00:08<00:00, 10.80it/s]\n"
          ]
        },
        {
          "output_type": "stream",
          "name": "stdout",
          "text": [
            "[train] Epoch: 39 ==== Loss: 0.66577 ==== Accuracy: 0.65664\n"
          ]
        },
        {
          "output_type": "stream",
          "name": "stderr",
          "text": [
            "100%|██████████| 41/41 [00:03<00:00, 10.93it/s]\n"
          ]
        },
        {
          "output_type": "stream",
          "name": "stdout",
          "text": [
            "[test] Epoch: 39 ==== Loss: 0.64456 ==== Accuracy: 0.60343\n",
            "Epoch: 39 ==== learning rate: [0.008670207628976334]\n"
          ]
        },
        {
          "output_type": "stream",
          "name": "stderr",
          "text": [
            "100%|██████████| 94/94 [00:08<00:00, 11.46it/s]\n"
          ]
        },
        {
          "output_type": "stream",
          "name": "stdout",
          "text": [
            "[train] Epoch: 40 ==== Loss: 0.65270 ==== Accuracy: 0.66208\n"
          ]
        },
        {
          "output_type": "stream",
          "name": "stderr",
          "text": [
            "100%|██████████| 41/41 [00:04<00:00,  9.47it/s]\n"
          ]
        },
        {
          "output_type": "stream",
          "name": "stdout",
          "text": [
            "[test] Epoch: 40 ==== Loss: 0.63341 ==== Accuracy: 0.60888\n",
            "Epoch: 40 ==== learning rate: [0.00853407123463249]\n"
          ]
        },
        {
          "output_type": "stream",
          "name": "stderr",
          "text": [
            "100%|██████████| 94/94 [00:07<00:00, 11.76it/s]\n"
          ]
        },
        {
          "output_type": "stream",
          "name": "stdout",
          "text": [
            "[train] Epoch: 41 ==== Loss: 0.63996 ==== Accuracy: 0.66782\n"
          ]
        },
        {
          "output_type": "stream",
          "name": "stderr",
          "text": [
            "100%|██████████| 41/41 [00:04<00:00,  8.89it/s]\n"
          ]
        },
        {
          "output_type": "stream",
          "name": "stdout",
          "text": [
            "[test] Epoch: 41 ==== Loss: 0.62314 ==== Accuracy: 0.61280\n",
            "Epoch: 41 ==== learning rate: [0.008392485635695812]\n"
          ]
        },
        {
          "output_type": "stream",
          "name": "stderr",
          "text": [
            "100%|██████████| 94/94 [00:07<00:00, 11.84it/s]\n"
          ]
        },
        {
          "output_type": "stream",
          "name": "stdout",
          "text": [
            "[train] Epoch: 42 ==== Loss: 0.62802 ==== Accuracy: 0.67265\n"
          ]
        },
        {
          "output_type": "stream",
          "name": "stderr",
          "text": [
            "100%|██████████| 41/41 [00:04<00:00, 10.10it/s]\n"
          ]
        },
        {
          "output_type": "stream",
          "name": "stdout",
          "text": [
            "[test] Epoch: 42 ==== Loss: 0.61406 ==== Accuracy: 0.61675\n",
            "Epoch: 42 ==== learning rate: [0.00824566914689753]\n"
          ]
        },
        {
          "output_type": "stream",
          "name": "stderr",
          "text": [
            "100%|██████████| 94/94 [00:08<00:00, 11.12it/s]\n"
          ]
        },
        {
          "output_type": "stream",
          "name": "stdout",
          "text": [
            "[train] Epoch: 43 ==== Loss: 0.61676 ==== Accuracy: 0.67708\n"
          ]
        },
        {
          "output_type": "stream",
          "name": "stderr",
          "text": [
            "100%|██████████| 41/41 [00:03<00:00, 12.25it/s]\n"
          ]
        },
        {
          "output_type": "stream",
          "name": "stdout",
          "text": [
            "[test] Epoch: 43 ==== Loss: 0.60451 ==== Accuracy: 0.62101\n",
            "Epoch: 43 ==== learning rate: [0.008093848148621902]\n"
          ]
        },
        {
          "output_type": "stream",
          "name": "stderr",
          "text": [
            "100%|██████████| 94/94 [00:09<00:00, 10.39it/s]\n"
          ]
        },
        {
          "output_type": "stream",
          "name": "stdout",
          "text": [
            "[train] Epoch: 44 ==== Loss: 0.60567 ==== Accuracy: 0.68194\n"
          ]
        },
        {
          "output_type": "stream",
          "name": "stderr",
          "text": [
            "100%|██████████| 41/41 [00:03<00:00, 12.62it/s]\n"
          ]
        },
        {
          "output_type": "stream",
          "name": "stdout",
          "text": [
            "[test] Epoch: 44 ==== Loss: 0.59624 ==== Accuracy: 0.62417\n",
            "Epoch: 44 ==== learning rate: [0.00793725673784406]\n"
          ]
        },
        {
          "output_type": "stream",
          "name": "stderr",
          "text": [
            "100%|██████████| 94/94 [00:09<00:00, 10.20it/s]\n"
          ]
        },
        {
          "output_type": "stream",
          "name": "stdout",
          "text": [
            "[train] Epoch: 45 ==== Loss: 0.59526 ==== Accuracy: 0.68647\n"
          ]
        },
        {
          "output_type": "stream",
          "name": "stderr",
          "text": [
            "100%|██████████| 41/41 [00:03<00:00, 12.67it/s]\n"
          ]
        },
        {
          "output_type": "stream",
          "name": "stdout",
          "text": [
            "[test] Epoch: 45 ==== Loss: 0.58761 ==== Accuracy: 0.62780\n",
            "Epoch: 45 ==== learning rate: [0.007776136367169456]\n"
          ]
        },
        {
          "output_type": "stream",
          "name": "stderr",
          "text": [
            "100%|██████████| 94/94 [00:09<00:00, 10.27it/s]\n"
          ]
        },
        {
          "output_type": "stream",
          "name": "stdout",
          "text": [
            "[train] Epoch: 46 ==== Loss: 0.58608 ==== Accuracy: 0.68994\n"
          ]
        },
        {
          "output_type": "stream",
          "name": "stderr",
          "text": [
            "100%|██████████| 41/41 [00:03<00:00, 12.76it/s]\n"
          ]
        },
        {
          "output_type": "stream",
          "name": "stdout",
          "text": [
            "[test] Epoch: 46 ==== Loss: 0.57961 ==== Accuracy: 0.63148\n",
            "Epoch: 46 ==== learning rate: [0.007610735472531429]\n"
          ]
        },
        {
          "output_type": "stream",
          "name": "stderr",
          "text": [
            "100%|██████████| 94/94 [00:09<00:00, 10.16it/s]\n"
          ]
        },
        {
          "output_type": "stream",
          "name": "stdout",
          "text": [
            "[train] Epoch: 47 ==== Loss: 0.57642 ==== Accuracy: 0.69429\n"
          ]
        },
        {
          "output_type": "stream",
          "name": "stderr",
          "text": [
            "100%|██████████| 41/41 [00:03<00:00, 12.43it/s]\n"
          ]
        },
        {
          "output_type": "stream",
          "name": "stdout",
          "text": [
            "[test] Epoch: 47 ==== Loss: 0.57164 ==== Accuracy: 0.63530\n",
            "Epoch: 47 ==== learning rate: [0.0074413090901210175]\n"
          ]
        },
        {
          "output_type": "stream",
          "name": "stderr",
          "text": [
            "100%|██████████| 94/94 [00:09<00:00, 10.13it/s]\n"
          ]
        },
        {
          "output_type": "stream",
          "name": "stdout",
          "text": [
            "[train] Epoch: 48 ==== Loss: 0.56694 ==== Accuracy: 0.69876\n"
          ]
        },
        {
          "output_type": "stream",
          "name": "stderr",
          "text": [
            "100%|██████████| 41/41 [00:03<00:00, 12.73it/s]\n"
          ]
        },
        {
          "output_type": "stream",
          "name": "stdout",
          "text": [
            "[test] Epoch: 48 ==== Loss: 0.56414 ==== Accuracy: 0.63923\n",
            "Epoch: 48 ==== learning rate: [0.007268118463139627]\n"
          ]
        },
        {
          "output_type": "stream",
          "name": "stderr",
          "text": [
            "100%|██████████| 94/94 [00:08<00:00, 10.78it/s]\n"
          ]
        },
        {
          "output_type": "stream",
          "name": "stdout",
          "text": [
            "[train] Epoch: 49 ==== Loss: 0.55769 ==== Accuracy: 0.70311\n"
          ]
        },
        {
          "output_type": "stream",
          "name": "stderr",
          "text": [
            "100%|██████████| 41/41 [00:03<00:00, 10.94it/s]\n"
          ]
        },
        {
          "output_type": "stream",
          "name": "stdout",
          "text": [
            "[test] Epoch: 49 ==== Loss: 0.55647 ==== Accuracy: 0.64341\n",
            "Epoch: 49 ==== learning rate: [0.007091430638980957]\n"
          ]
        },
        {
          "output_type": "stream",
          "name": "stderr",
          "text": [
            "100%|██████████| 94/94 [00:07<00:00, 11.76it/s]\n"
          ]
        },
        {
          "output_type": "stream",
          "name": "stdout",
          "text": [
            "[train] Epoch: 50 ==== Loss: 0.54875 ==== Accuracy: 0.70728\n"
          ]
        },
        {
          "output_type": "stream",
          "name": "stderr",
          "text": [
            "100%|██████████| 41/41 [00:04<00:00,  9.11it/s]\n"
          ]
        },
        {
          "output_type": "stream",
          "name": "stdout",
          "text": [
            "[test] Epoch: 50 ==== Loss: 0.54919 ==== Accuracy: 0.64703\n",
            "Epoch: 50 ==== learning rate: [0.0069115180574632696]\n"
          ]
        },
        {
          "output_type": "stream",
          "name": "stderr",
          "text": [
            "100%|██████████| 94/94 [00:08<00:00, 11.69it/s]\n"
          ]
        },
        {
          "output_type": "stream",
          "name": "stdout",
          "text": [
            "[train] Epoch: 51 ==== Loss: 0.54017 ==== Accuracy: 0.71128\n"
          ]
        },
        {
          "output_type": "stream",
          "name": "stderr",
          "text": [
            "100%|██████████| 41/41 [00:04<00:00,  9.51it/s]\n"
          ]
        },
        {
          "output_type": "stream",
          "name": "stdout",
          "text": [
            "[test] Epoch: 51 ==== Loss: 0.54229 ==== Accuracy: 0.65027\n",
            "Epoch: 51 ==== learning rate: [0.006728658130746944]\n"
          ]
        },
        {
          "output_type": "stream",
          "name": "stderr",
          "text": [
            "100%|██████████| 94/94 [00:08<00:00, 11.66it/s]\n"
          ]
        },
        {
          "output_type": "stream",
          "name": "stdout",
          "text": [
            "[train] Epoch: 52 ==== Loss: 0.53182 ==== Accuracy: 0.71515\n"
          ]
        },
        {
          "output_type": "stream",
          "name": "stderr",
          "text": [
            "100%|██████████| 41/41 [00:03<00:00, 11.29it/s]\n"
          ]
        },
        {
          "output_type": "stream",
          "name": "stdout",
          "text": [
            "[test] Epoch: 52 ==== Loss: 0.53554 ==== Accuracy: 0.65392\n",
            "Epoch: 52 ==== learning rate: [0.006543132815585023]\n"
          ]
        },
        {
          "output_type": "stream",
          "name": "stderr",
          "text": [
            "100%|██████████| 94/94 [00:09<00:00,  9.62it/s]\n"
          ]
        },
        {
          "output_type": "stream",
          "name": "stdout",
          "text": [
            "[train] Epoch: 53 ==== Loss: 0.52359 ==== Accuracy: 0.71903\n"
          ]
        },
        {
          "output_type": "stream",
          "name": "stderr",
          "text": [
            "100%|██████████| 41/41 [00:04<00:00, 10.23it/s]\n"
          ]
        },
        {
          "output_type": "stream",
          "name": "stdout",
          "text": [
            "[test] Epoch: 53 ==== Loss: 0.52948 ==== Accuracy: 0.65673\n",
            "Epoch: 53 ==== learning rate: [0.006355228178566343]\n"
          ]
        },
        {
          "output_type": "stream",
          "name": "stderr",
          "text": [
            "100%|██████████| 94/94 [00:08<00:00, 10.64it/s]\n"
          ]
        },
        {
          "output_type": "stream",
          "name": "stdout",
          "text": [
            "[train] Epoch: 54 ==== Loss: 0.51575 ==== Accuracy: 0.72280\n"
          ]
        },
        {
          "output_type": "stream",
          "name": "stderr",
          "text": [
            "100%|██████████| 41/41 [00:03<00:00, 12.53it/s]\n"
          ]
        },
        {
          "output_type": "stream",
          "name": "stdout",
          "text": [
            "[test] Epoch: 54 ==== Loss: 0.52355 ==== Accuracy: 0.65994\n",
            "Epoch: 54 ==== learning rate: [0.006165233955021588]\n"
          ]
        },
        {
          "output_type": "stream",
          "name": "stderr",
          "text": [
            "100%|██████████| 94/94 [00:09<00:00, 10.21it/s]\n"
          ]
        },
        {
          "output_type": "stream",
          "name": "stdout",
          "text": [
            "[train] Epoch: 55 ==== Loss: 0.50806 ==== Accuracy: 0.72666\n"
          ]
        },
        {
          "output_type": "stream",
          "name": "stderr",
          "text": [
            "100%|██████████| 41/41 [00:03<00:00, 12.45it/s]\n"
          ]
        },
        {
          "output_type": "stream",
          "name": "stdout",
          "text": [
            "[test] Epoch: 55 ==== Loss: 0.51785 ==== Accuracy: 0.66272\n",
            "Epoch: 55 ==== learning rate: [0.005973443102272408]\n"
          ]
        },
        {
          "output_type": "stream",
          "name": "stderr",
          "text": [
            "100%|██████████| 94/94 [00:09<00:00, 10.29it/s]\n"
          ]
        },
        {
          "output_type": "stream",
          "name": "stdout",
          "text": [
            "[train] Epoch: 56 ==== Loss: 0.50052 ==== Accuracy: 0.73055\n"
          ]
        },
        {
          "output_type": "stream",
          "name": "stderr",
          "text": [
            "100%|██████████| 41/41 [00:03<00:00, 12.60it/s]\n"
          ]
        },
        {
          "output_type": "stream",
          "name": "stdout",
          "text": [
            "[test] Epoch: 56 ==== Loss: 0.51226 ==== Accuracy: 0.66530\n",
            "Epoch: 56 ==== learning rate: [0.005780151347912462]\n"
          ]
        },
        {
          "output_type": "stream",
          "name": "stderr",
          "text": [
            "100%|██████████| 94/94 [00:09<00:00, 10.17it/s]\n"
          ]
        },
        {
          "output_type": "stream",
          "name": "stdout",
          "text": [
            "[train] Epoch: 57 ==== Loss: 0.49314 ==== Accuracy: 0.73432\n"
          ]
        },
        {
          "output_type": "stream",
          "name": "stderr",
          "text": [
            "100%|██████████| 41/41 [00:03<00:00, 12.70it/s]\n"
          ]
        },
        {
          "output_type": "stream",
          "name": "stdout",
          "text": [
            "[test] Epoch: 57 ==== Loss: 0.50662 ==== Accuracy: 0.66825\n",
            "Epoch: 57 ==== learning rate: [0.005585656733816909]\n"
          ]
        },
        {
          "output_type": "stream",
          "name": "stderr",
          "text": [
            "100%|██████████| 94/94 [00:09<00:00, 10.27it/s]\n"
          ]
        },
        {
          "output_type": "stream",
          "name": "stdout",
          "text": [
            "[train] Epoch: 58 ==== Loss: 0.48597 ==== Accuracy: 0.73815\n"
          ]
        },
        {
          "output_type": "stream",
          "name": "stderr",
          "text": [
            "100%|██████████| 41/41 [00:03<00:00, 12.72it/s]\n"
          ]
        },
        {
          "output_type": "stream",
          "name": "stdout",
          "text": [
            "[test] Epoch: 58 ==== Loss: 0.50128 ==== Accuracy: 0.67085\n",
            "Epoch: 58 ==== learning rate: [0.005390259156583433]\n"
          ]
        },
        {
          "output_type": "stream",
          "name": "stderr",
          "text": [
            "100%|██████████| 94/94 [00:09<00:00, 10.40it/s]\n"
          ]
        },
        {
          "output_type": "stream",
          "name": "stdout",
          "text": [
            "[train] Epoch: 59 ==== Loss: 0.47907 ==== Accuracy: 0.74184\n"
          ]
        },
        {
          "output_type": "stream",
          "name": "stderr",
          "text": [
            "100%|██████████| 41/41 [00:03<00:00, 11.95it/s]\n"
          ]
        },
        {
          "output_type": "stream",
          "name": "stdout",
          "text": [
            "[test] Epoch: 59 ==== Loss: 0.49590 ==== Accuracy: 0.67378\n",
            "Epoch: 59 ==== learning rate: [0.005194259905113429]\n"
          ]
        },
        {
          "output_type": "stream",
          "name": "stderr",
          "text": [
            "100%|██████████| 94/94 [00:08<00:00, 11.21it/s]\n"
          ]
        },
        {
          "output_type": "stream",
          "name": "stdout",
          "text": [
            "[train] Epoch: 60 ==== Loss: 0.47230 ==== Accuracy: 0.74545\n"
          ]
        },
        {
          "output_type": "stream",
          "name": "stderr",
          "text": [
            "100%|██████████| 41/41 [00:04<00:00,  9.93it/s]\n"
          ]
        },
        {
          "output_type": "stream",
          "name": "stdout",
          "text": [
            "[test] Epoch: 60 ==== Loss: 0.49097 ==== Accuracy: 0.67679\n",
            "Epoch: 60 ==== learning rate: [0.004997961196046356]\n"
          ]
        },
        {
          "output_type": "stream",
          "name": "stderr",
          "text": [
            "100%|██████████| 94/94 [00:07<00:00, 11.79it/s]\n"
          ]
        },
        {
          "output_type": "stream",
          "name": "stdout",
          "text": [
            "[train] Epoch: 61 ==== Loss: 0.46561 ==== Accuracy: 0.74913\n"
          ]
        },
        {
          "output_type": "stream",
          "name": "stderr",
          "text": [
            "100%|██████████| 41/41 [00:04<00:00,  8.98it/s]\n"
          ]
        },
        {
          "output_type": "stream",
          "name": "stdout",
          "text": [
            "[test] Epoch: 61 ==== Loss: 0.48615 ==== Accuracy: 0.67966\n",
            "Epoch: 61 ==== learning rate: [0.00480166570776358]\n"
          ]
        },
        {
          "output_type": "stream",
          "name": "stderr",
          "text": [
            "100%|██████████| 94/94 [00:08<00:00, 11.69it/s]\n"
          ]
        },
        {
          "output_type": "stream",
          "name": "stdout",
          "text": [
            "[train] Epoch: 62 ==== Loss: 0.45927 ==== Accuracy: 0.75239\n"
          ]
        },
        {
          "output_type": "stream",
          "name": "stderr",
          "text": [
            "100%|██████████| 41/41 [00:04<00:00,  9.86it/s]\n"
          ]
        },
        {
          "output_type": "stream",
          "name": "stdout",
          "text": [
            "[test] Epoch: 62 ==== Loss: 0.48123 ==== Accuracy: 0.68253\n",
            "Epoch: 62 ==== learning rate: [0.004605676113680251]\n"
          ]
        },
        {
          "output_type": "stream",
          "name": "stderr",
          "text": [
            "100%|██████████| 94/94 [00:08<00:00, 11.32it/s]\n"
          ]
        },
        {
          "output_type": "stream",
          "name": "stdout",
          "text": [
            "[train] Epoch: 63 ==== Loss: 0.45305 ==== Accuracy: 0.75567\n"
          ]
        },
        {
          "output_type": "stream",
          "name": "stderr",
          "text": [
            "100%|██████████| 41/41 [00:03<00:00, 11.93it/s]\n"
          ]
        },
        {
          "output_type": "stream",
          "name": "stdout",
          "text": [
            "[test] Epoch: 63 ==== Loss: 0.47681 ==== Accuracy: 0.68503\n",
            "Epoch: 63 ==== learning rate: [0.004410294615544839]\n"
          ]
        },
        {
          "output_type": "stream",
          "name": "stderr",
          "text": [
            "100%|██████████| 94/94 [00:08<00:00, 10.51it/s]\n"
          ]
        },
        {
          "output_type": "stream",
          "name": "stdout",
          "text": [
            "[train] Epoch: 64 ==== Loss: 0.44696 ==== Accuracy: 0.75888\n"
          ]
        },
        {
          "output_type": "stream",
          "name": "stderr",
          "text": [
            "100%|██████████| 41/41 [00:03<00:00, 12.78it/s]\n"
          ]
        },
        {
          "output_type": "stream",
          "name": "stdout",
          "text": [
            "[test] Epoch: 64 ==== Loss: 0.47242 ==== Accuracy: 0.68761\n",
            "Epoch: 64 ==== learning rate: [0.0042158224774659315]\n"
          ]
        },
        {
          "output_type": "stream",
          "name": "stderr",
          "text": [
            "100%|██████████| 94/94 [00:09<00:00, 10.22it/s]\n"
          ]
        },
        {
          "output_type": "stream",
          "name": "stdout",
          "text": [
            "[train] Epoch: 65 ==== Loss: 0.44101 ==== Accuracy: 0.76199\n"
          ]
        },
        {
          "output_type": "stream",
          "name": "stderr",
          "text": [
            "100%|██████████| 41/41 [00:03<00:00, 12.78it/s]\n"
          ]
        },
        {
          "output_type": "stream",
          "name": "stdout",
          "text": [
            "[test] Epoch: 65 ==== Loss: 0.46823 ==== Accuracy: 0.68988\n",
            "Epoch: 65 ==== learning rate: [0.004022559561384829]\n"
          ]
        },
        {
          "output_type": "stream",
          "name": "stderr",
          "text": [
            "100%|██████████| 94/94 [00:09<00:00, 10.19it/s]\n"
          ]
        },
        {
          "output_type": "stream",
          "name": "stdout",
          "text": [
            "[train] Epoch: 66 ==== Loss: 0.43511 ==== Accuracy: 0.76515\n"
          ]
        },
        {
          "output_type": "stream",
          "name": "stderr",
          "text": [
            "100%|██████████| 41/41 [00:03<00:00, 12.59it/s]\n"
          ]
        },
        {
          "output_type": "stream",
          "name": "stdout",
          "text": [
            "[test] Epoch: 66 ==== Loss: 0.46411 ==== Accuracy: 0.69246\n",
            "Epoch: 66 ==== learning rate: [0.0038308038647101497]\n"
          ]
        },
        {
          "output_type": "stream",
          "name": "stderr",
          "text": [
            "100%|██████████| 94/94 [00:09<00:00, 10.23it/s]\n"
          ]
        },
        {
          "output_type": "stream",
          "name": "stdout",
          "text": [
            "[train] Epoch: 67 ==== Loss: 0.42935 ==== Accuracy: 0.76828\n"
          ]
        },
        {
          "output_type": "stream",
          "name": "stderr",
          "text": [
            "100%|██████████| 41/41 [00:03<00:00, 12.59it/s]\n"
          ]
        },
        {
          "output_type": "stream",
          "name": "stdout",
          "text": [
            "[test] Epoch: 67 ==== Loss: 0.46030 ==== Accuracy: 0.69490\n",
            "Epoch: 67 ==== learning rate: [0.0036408510608274373]\n"
          ]
        },
        {
          "output_type": "stream",
          "name": "stderr",
          "text": [
            "100%|██████████| 94/94 [00:09<00:00, 10.19it/s]\n"
          ]
        },
        {
          "output_type": "stream",
          "name": "stdout",
          "text": [
            "[train] Epoch: 68 ==== Loss: 0.42373 ==== Accuracy: 0.77134\n"
          ]
        },
        {
          "output_type": "stream",
          "name": "stderr",
          "text": [
            "100%|██████████| 41/41 [00:03<00:00, 12.60it/s]\n"
          ]
        },
        {
          "output_type": "stream",
          "name": "stdout",
          "text": [
            "[test] Epoch: 68 ==== Loss: 0.45651 ==== Accuracy: 0.69744\n",
            "Epoch: 68 ==== learning rate: [0.0034529940431922254]\n"
          ]
        },
        {
          "output_type": "stream",
          "name": "stderr",
          "text": [
            "100%|██████████| 94/94 [00:08<00:00, 10.72it/s]\n"
          ]
        },
        {
          "output_type": "stream",
          "name": "stdout",
          "text": [
            "[train] Epoch: 69 ==== Loss: 0.41829 ==== Accuracy: 0.77423\n"
          ]
        },
        {
          "output_type": "stream",
          "name": "stderr",
          "text": [
            "100%|██████████| 41/41 [00:03<00:00, 11.07it/s]\n"
          ]
        },
        {
          "output_type": "stream",
          "name": "stdout",
          "text": [
            "[test] Epoch: 69 ==== Loss: 0.45281 ==== Accuracy: 0.69991\n",
            "Epoch: 69 ==== learning rate: [0.0032675224737095565]\n"
          ]
        },
        {
          "output_type": "stream",
          "name": "stderr",
          "text": [
            "100%|██████████| 94/94 [00:08<00:00, 11.49it/s]\n"
          ]
        },
        {
          "output_type": "stream",
          "name": "stdout",
          "text": [
            "[train] Epoch: 70 ==== Loss: 0.41295 ==== Accuracy: 0.77715\n"
          ]
        },
        {
          "output_type": "stream",
          "name": "stderr",
          "text": [
            "100%|██████████| 41/41 [00:04<00:00,  9.52it/s]\n"
          ]
        },
        {
          "output_type": "stream",
          "name": "stdout",
          "text": [
            "[test] Epoch: 70 ==== Loss: 0.44912 ==== Accuracy: 0.70231\n",
            "Epoch: 70 ==== learning rate: [0.003084722336096329]\n"
          ]
        },
        {
          "output_type": "stream",
          "name": "stderr",
          "text": [
            "100%|██████████| 94/94 [00:07<00:00, 11.88it/s]\n"
          ]
        },
        {
          "output_type": "stream",
          "name": "stdout",
          "text": [
            "[train] Epoch: 71 ==== Loss: 0.40771 ==== Accuracy: 0.77999\n"
          ]
        },
        {
          "output_type": "stream",
          "name": "stderr",
          "text": [
            "100%|██████████| 41/41 [00:04<00:00,  9.06it/s]\n"
          ]
        },
        {
          "output_type": "stream",
          "name": "stdout",
          "text": [
            "[test] Epoch: 71 ==== Loss: 0.44560 ==== Accuracy: 0.70469\n",
            "Epoch: 71 ==== learning rate: [0.002904875494915121]\n"
          ]
        },
        {
          "output_type": "stream",
          "name": "stderr",
          "text": [
            "100%|██████████| 94/94 [00:08<00:00, 11.75it/s]\n"
          ]
        },
        {
          "output_type": "stream",
          "name": "stdout",
          "text": [
            "[train] Epoch: 72 ==== Loss: 0.40259 ==== Accuracy: 0.78282\n"
          ]
        },
        {
          "output_type": "stream",
          "name": "stderr",
          "text": [
            "100%|██████████| 41/41 [00:03<00:00, 10.68it/s]\n"
          ]
        },
        {
          "output_type": "stream",
          "name": "stdout",
          "text": [
            "[test] Epoch: 72 ==== Loss: 0.44220 ==== Accuracy: 0.70693\n",
            "Epoch: 72 ==== learning rate: [0.0027282592609594787]\n"
          ]
        },
        {
          "output_type": "stream",
          "name": "stderr",
          "text": [
            "100%|██████████| 94/94 [00:08<00:00, 10.94it/s]\n"
          ]
        },
        {
          "output_type": "stream",
          "name": "stdout",
          "text": [
            "[train] Epoch: 73 ==== Loss: 0.39755 ==== Accuracy: 0.78554\n"
          ]
        },
        {
          "output_type": "stream",
          "name": "stderr",
          "text": [
            "100%|██████████| 41/41 [00:03<00:00, 12.51it/s]\n"
          ]
        },
        {
          "output_type": "stream",
          "name": "stdout",
          "text": [
            "[test] Epoch: 73 ==== Loss: 0.43889 ==== Accuracy: 0.70903\n",
            "Epoch: 73 ==== learning rate: [0.0025551459636607592]\n"
          ]
        },
        {
          "output_type": "stream",
          "name": "stderr",
          "text": [
            "100%|██████████| 94/94 [00:10<00:00,  9.06it/s]\n"
          ]
        },
        {
          "output_type": "stream",
          "name": "stdout",
          "text": [
            "[train] Epoch: 74 ==== Loss: 0.39262 ==== Accuracy: 0.78828\n"
          ]
        },
        {
          "output_type": "stream",
          "name": "stderr",
          "text": [
            "100%|██████████| 41/41 [00:03<00:00, 11.62it/s]\n"
          ]
        },
        {
          "output_type": "stream",
          "name": "stdout",
          "text": [
            "[test] Epoch: 74 ==== Loss: 0.43577 ==== Accuracy: 0.71094\n",
            "Epoch: 74 ==== learning rate: [0.0023858025311758934]\n"
          ]
        },
        {
          "output_type": "stream",
          "name": "stderr",
          "text": [
            "100%|██████████| 94/94 [00:09<00:00, 10.22it/s]\n"
          ]
        },
        {
          "output_type": "stream",
          "name": "stdout",
          "text": [
            "[train] Epoch: 75 ==== Loss: 0.38779 ==== Accuracy: 0.79093\n"
          ]
        },
        {
          "output_type": "stream",
          "name": "stderr",
          "text": [
            "100%|██████████| 41/41 [00:03<00:00, 12.78it/s]\n"
          ]
        },
        {
          "output_type": "stream",
          "name": "stdout",
          "text": [
            "[test] Epoch: 75 ==== Loss: 0.43280 ==== Accuracy: 0.71273\n",
            "Epoch: 75 ==== learning rate: [0.0022204900788035196]\n"
          ]
        },
        {
          "output_type": "stream",
          "name": "stderr",
          "text": [
            "100%|██████████| 94/94 [00:09<00:00, 10.18it/s]\n"
          ]
        },
        {
          "output_type": "stream",
          "name": "stdout",
          "text": [
            "[train] Epoch: 76 ==== Loss: 0.38307 ==== Accuracy: 0.79354\n"
          ]
        },
        {
          "output_type": "stream",
          "name": "stderr",
          "text": [
            "100%|██████████| 41/41 [00:03<00:00, 12.77it/s]\n"
          ]
        },
        {
          "output_type": "stream",
          "name": "stdout",
          "text": [
            "[test] Epoch: 76 ==== Loss: 0.42986 ==== Accuracy: 0.71460\n",
            "Epoch: 76 ==== learning rate: [0.002059463506363107]\n"
          ]
        },
        {
          "output_type": "stream",
          "name": "stderr",
          "text": [
            "100%|██████████| 94/94 [00:09<00:00, 10.11it/s]\n"
          ]
        },
        {
          "output_type": "stream",
          "name": "stdout",
          "text": [
            "[train] Epoch: 77 ==== Loss: 0.37844 ==== Accuracy: 0.79609\n"
          ]
        },
        {
          "output_type": "stream",
          "name": "stderr",
          "text": [
            "100%|██████████| 41/41 [00:03<00:00, 12.44it/s]\n"
          ]
        },
        {
          "output_type": "stream",
          "name": "stdout",
          "text": [
            "[test] Epoch: 77 ==== Loss: 0.42690 ==== Accuracy: 0.71654\n",
            "Epoch: 77 ==== learning rate: [0.0019029711051579243]\n"
          ]
        },
        {
          "output_type": "stream",
          "name": "stderr",
          "text": [
            "100%|██████████| 94/94 [00:09<00:00, 10.16it/s]\n"
          ]
        },
        {
          "output_type": "stream",
          "name": "stdout",
          "text": [
            "[train] Epoch: 78 ==== Loss: 0.37390 ==== Accuracy: 0.79859\n"
          ]
        },
        {
          "output_type": "stream",
          "name": "stderr",
          "text": [
            "100%|██████████| 41/41 [00:03<00:00, 12.64it/s]\n"
          ]
        },
        {
          "output_type": "stream",
          "name": "stdout",
          "text": [
            "[test] Epoch: 78 ==== Loss: 0.42409 ==== Accuracy: 0.71845\n",
            "Epoch: 78 ==== learning rate: [0.0017512541751278292]\n"
          ]
        },
        {
          "output_type": "stream",
          "name": "stderr",
          "text": [
            "100%|██████████| 94/94 [00:09<00:00, 10.12it/s]\n"
          ]
        },
        {
          "output_type": "stream",
          "name": "stdout",
          "text": [
            "[train] Epoch: 79 ==== Loss: 0.36945 ==== Accuracy: 0.80102\n"
          ]
        },
        {
          "output_type": "stream",
          "name": "stderr",
          "text": [
            "100%|██████████| 41/41 [00:03<00:00, 12.50it/s]\n"
          ]
        },
        {
          "output_type": "stream",
          "name": "stdout",
          "text": [
            "[test] Epoch: 79 ==== Loss: 0.42136 ==== Accuracy: 0.72037\n",
            "Epoch: 79 ==== learning rate: [0.0016045466527822684]\n"
          ]
        },
        {
          "output_type": "stream",
          "name": "stderr",
          "text": [
            "100%|██████████| 94/94 [00:08<00:00, 10.51it/s]\n"
          ]
        },
        {
          "output_type": "stream",
          "name": "stdout",
          "text": [
            "[train] Epoch: 80 ==== Loss: 0.36511 ==== Accuracy: 0.80340\n"
          ]
        },
        {
          "output_type": "stream",
          "name": "stderr",
          "text": [
            "100%|██████████| 41/41 [00:03<00:00, 10.99it/s]\n"
          ]
        },
        {
          "output_type": "stream",
          "name": "stdout",
          "text": [
            "[test] Epoch: 80 ==== Loss: 0.41869 ==== Accuracy: 0.72213\n",
            "Epoch: 80 ==== learning rate: [0.001463074750487127]\n"
          ]
        },
        {
          "output_type": "stream",
          "name": "stderr",
          "text": [
            "100%|██████████| 94/94 [00:08<00:00, 11.32it/s]\n"
          ]
        },
        {
          "output_type": "stream",
          "name": "stdout",
          "text": [
            "[train] Epoch: 81 ==== Loss: 0.36085 ==== Accuracy: 0.80575\n"
          ]
        },
        {
          "output_type": "stream",
          "name": "stderr",
          "text": [
            "100%|██████████| 41/41 [00:04<00:00,  9.62it/s]\n"
          ]
        },
        {
          "output_type": "stream",
          "name": "stdout",
          "text": [
            "[test] Epoch: 81 ==== Loss: 0.41608 ==== Accuracy: 0.72388\n",
            "Epoch: 81 ==== learning rate: [0.001327056607661653]\n"
          ]
        },
        {
          "output_type": "stream",
          "name": "stderr",
          "text": [
            "100%|██████████| 94/94 [00:08<00:00, 11.72it/s]\n"
          ]
        },
        {
          "output_type": "stream",
          "name": "stdout",
          "text": [
            "[train] Epoch: 82 ==== Loss: 0.35670 ==== Accuracy: 0.80803\n"
          ]
        },
        {
          "output_type": "stream",
          "name": "stderr",
          "text": [
            "100%|██████████| 41/41 [00:04<00:00,  8.91it/s]\n"
          ]
        },
        {
          "output_type": "stream",
          "name": "stdout",
          "text": [
            "[test] Epoch: 82 ==== Loss: 0.41354 ==== Accuracy: 0.72559\n",
            "Epoch: 82 ==== learning rate: [0.0011967019544232944]\n"
          ]
        },
        {
          "output_type": "stream",
          "name": "stderr",
          "text": [
            "100%|██████████| 94/94 [00:07<00:00, 11.88it/s]\n"
          ]
        },
        {
          "output_type": "stream",
          "name": "stdout",
          "text": [
            "[train] Epoch: 83 ==== Loss: 0.35262 ==== Accuracy: 0.81028\n"
          ]
        },
        {
          "output_type": "stream",
          "name": "stderr",
          "text": [
            "100%|██████████| 41/41 [00:03<00:00, 10.39it/s]\n"
          ]
        },
        {
          "output_type": "stream",
          "name": "stdout",
          "text": [
            "[test] Epoch: 83 ==== Loss: 0.41105 ==== Accuracy: 0.72737\n",
            "Epoch: 83 ==== learning rate: [0.0010722117881990496]\n"
          ]
        },
        {
          "output_type": "stream",
          "name": "stderr",
          "text": [
            "100%|██████████| 94/94 [00:08<00:00, 11.01it/s]\n"
          ]
        },
        {
          "output_type": "stream",
          "name": "stdout",
          "text": [
            "[train] Epoch: 84 ==== Loss: 0.34863 ==== Accuracy: 0.81245\n"
          ]
        },
        {
          "output_type": "stream",
          "name": "stderr",
          "text": [
            "100%|██████████| 41/41 [00:03<00:00, 12.38it/s]\n"
          ]
        },
        {
          "output_type": "stream",
          "name": "stdout",
          "text": [
            "[test] Epoch: 84 ==== Loss: 0.40864 ==== Accuracy: 0.72905\n",
            "Epoch: 84 ==== learning rate: [0.0009537780638020075]\n"
          ]
        },
        {
          "output_type": "stream",
          "name": "stderr",
          "text": [
            "100%|██████████| 94/94 [00:09<00:00, 10.25it/s]\n"
          ]
        },
        {
          "output_type": "stream",
          "name": "stdout",
          "text": [
            "[train] Epoch: 85 ==== Loss: 0.34472 ==== Accuracy: 0.81457\n"
          ]
        },
        {
          "output_type": "stream",
          "name": "stderr",
          "text": [
            "100%|██████████| 41/41 [00:03<00:00, 12.71it/s]\n"
          ]
        },
        {
          "output_type": "stream",
          "name": "stdout",
          "text": [
            "[test] Epoch: 85 ==== Loss: 0.40633 ==== Accuracy: 0.73070\n",
            "Epoch: 85 ==== learning rate: [0.0008415833974509442]\n"
          ]
        },
        {
          "output_type": "stream",
          "name": "stderr",
          "text": [
            "100%|██████████| 94/94 [00:09<00:00, 10.18it/s]\n"
          ]
        },
        {
          "output_type": "stream",
          "name": "stdout",
          "text": [
            "[train] Epoch: 86 ==== Loss: 0.34091 ==== Accuracy: 0.81665\n"
          ]
        },
        {
          "output_type": "stream",
          "name": "stderr",
          "text": [
            "100%|██████████| 41/41 [00:03<00:00, 12.41it/s]\n"
          ]
        },
        {
          "output_type": "stream",
          "name": "stdout",
          "text": [
            "[test] Epoch: 86 ==== Loss: 0.40404 ==== Accuracy: 0.73236\n",
            "Epoch: 86 ==== learning rate: [0.0007358007851893379]\n"
          ]
        },
        {
          "output_type": "stream",
          "name": "stderr",
          "text": [
            "100%|██████████| 94/94 [00:09<00:00, 10.02it/s]\n"
          ]
        },
        {
          "output_type": "stream",
          "name": "stdout",
          "text": [
            "[train] Epoch: 87 ==== Loss: 0.33717 ==== Accuracy: 0.81869\n"
          ]
        },
        {
          "output_type": "stream",
          "name": "stderr",
          "text": [
            "100%|██████████| 41/41 [00:03<00:00, 12.62it/s]\n"
          ]
        },
        {
          "output_type": "stream",
          "name": "stdout",
          "text": [
            "[test] Epoch: 87 ==== Loss: 0.40182 ==== Accuracy: 0.73392\n",
            "Epoch: 87 ==== learning rate: [0.0006365933361380223]\n"
          ]
        },
        {
          "output_type": "stream",
          "name": "stderr",
          "text": [
            "100%|██████████| 94/94 [00:09<00:00, 10.18it/s]\n"
          ]
        },
        {
          "output_type": "stream",
          "name": "stdout",
          "text": [
            "[train] Epoch: 88 ==== Loss: 0.33351 ==== Accuracy: 0.82069\n"
          ]
        },
        {
          "output_type": "stream",
          "name": "stderr",
          "text": [
            "100%|██████████| 41/41 [00:03<00:00, 12.59it/s]\n"
          ]
        },
        {
          "output_type": "stream",
          "name": "stdout",
          "text": [
            "[test] Epoch: 88 ==== Loss: 0.39966 ==== Accuracy: 0.73547\n",
            "Epoch: 88 ==== learning rate: [0.0005441140209927326]\n"
          ]
        },
        {
          "output_type": "stream",
          "name": "stderr",
          "text": [
            "100%|██████████| 94/94 [00:09<00:00, 10.23it/s]\n"
          ]
        },
        {
          "output_type": "stream",
          "name": "stdout",
          "text": [
            "[train] Epoch: 89 ==== Loss: 0.32993 ==== Accuracy: 0.82266\n"
          ]
        },
        {
          "output_type": "stream",
          "name": "stderr",
          "text": [
            "100%|██████████| 41/41 [00:03<00:00, 12.45it/s]\n"
          ]
        },
        {
          "output_type": "stream",
          "name": "stdout",
          "text": [
            "[test] Epoch: 89 ==== Loss: 0.39756 ==== Accuracy: 0.73707\n",
            "Epoch: 89 ==== learning rate: [0.00045850543615439017]\n"
          ]
        },
        {
          "output_type": "stream",
          "name": "stderr",
          "text": [
            "100%|██████████| 94/94 [00:08<00:00, 10.46it/s]\n"
          ]
        },
        {
          "output_type": "stream",
          "name": "stdout",
          "text": [
            "[train] Epoch: 90 ==== Loss: 0.32642 ==== Accuracy: 0.82457\n"
          ]
        },
        {
          "output_type": "stream",
          "name": "stderr",
          "text": [
            "100%|██████████| 41/41 [00:03<00:00, 11.65it/s]\n"
          ]
        },
        {
          "output_type": "stream",
          "name": "stdout",
          "text": [
            "[test] Epoch: 90 ==== Loss: 0.39551 ==== Accuracy: 0.73862\n",
            "Epoch: 90 ==== learning rate: [0.00037989958385578187]\n"
          ]
        },
        {
          "output_type": "stream",
          "name": "stderr",
          "text": [
            "100%|██████████| 94/94 [00:08<00:00, 11.29it/s]\n"
          ]
        },
        {
          "output_type": "stream",
          "name": "stdout",
          "text": [
            "[train] Epoch: 91 ==== Loss: 0.32299 ==== Accuracy: 0.82644\n"
          ]
        },
        {
          "output_type": "stream",
          "name": "stderr",
          "text": [
            "100%|██████████| 41/41 [00:04<00:00,  9.72it/s]\n"
          ]
        },
        {
          "output_type": "stream",
          "name": "stdout",
          "text": [
            "[test] Epoch: 91 ==== Loss: 0.39351 ==== Accuracy: 0.74007\n",
            "Epoch: 91 ==== learning rate: [0.0003084176686236848]\n"
          ]
        },
        {
          "output_type": "stream",
          "name": "stderr",
          "text": [
            "100%|██████████| 94/94 [00:07<00:00, 11.82it/s]\n"
          ]
        },
        {
          "output_type": "stream",
          "name": "stdout",
          "text": [
            "[train] Epoch: 92 ==== Loss: 0.31963 ==== Accuracy: 0.82826\n"
          ]
        },
        {
          "output_type": "stream",
          "name": "stderr",
          "text": [
            "100%|██████████| 41/41 [00:04<00:00,  8.97it/s]\n"
          ]
        },
        {
          "output_type": "stream",
          "name": "stdout",
          "text": [
            "[test] Epoch: 92 ==== Loss: 0.39157 ==== Accuracy: 0.74148\n",
            "Epoch: 92 ==== learning rate: [0.00024416991039027545]\n"
          ]
        },
        {
          "output_type": "stream",
          "name": "stderr",
          "text": [
            "100%|██████████| 94/94 [00:07<00:00, 11.78it/s]\n"
          ]
        },
        {
          "output_type": "stream",
          "name": "stdout",
          "text": [
            "[train] Epoch: 93 ==== Loss: 0.31634 ==== Accuracy: 0.83006\n"
          ]
        },
        {
          "output_type": "stream",
          "name": "stderr",
          "text": [
            "100%|██████████| 41/41 [00:04<00:00,  9.99it/s]\n"
          ]
        },
        {
          "output_type": "stream",
          "name": "stdout",
          "text": [
            "[test] Epoch: 93 ==== Loss: 0.38966 ==== Accuracy: 0.74293\n",
            "Epoch: 93 ==== learning rate: [0.00018725537454197938]\n"
          ]
        },
        {
          "output_type": "stream",
          "name": "stderr",
          "text": [
            "100%|██████████| 94/94 [00:08<00:00, 11.08it/s]\n"
          ]
        },
        {
          "output_type": "stream",
          "name": "stdout",
          "text": [
            "[train] Epoch: 94 ==== Loss: 0.31313 ==== Accuracy: 0.83182\n"
          ]
        },
        {
          "output_type": "stream",
          "name": "stderr",
          "text": [
            "100%|██████████| 41/41 [00:03<00:00, 12.18it/s]\n"
          ]
        },
        {
          "output_type": "stream",
          "name": "stdout",
          "text": [
            "[test] Epoch: 94 ==== Loss: 0.38781 ==== Accuracy: 0.74428\n",
            "Epoch: 94 ==== learning rate: [0.00013776181916782626]\n"
          ]
        },
        {
          "output_type": "stream",
          "name": "stderr",
          "text": [
            "100%|██████████| 94/94 [00:10<00:00,  9.02it/s]\n"
          ]
        },
        {
          "output_type": "stream",
          "name": "stdout",
          "text": [
            "[train] Epoch: 95 ==== Loss: 0.30997 ==== Accuracy: 0.83354\n"
          ]
        },
        {
          "output_type": "stream",
          "name": "stderr",
          "text": [
            "100%|██████████| 41/41 [00:03<00:00, 12.23it/s]\n"
          ]
        },
        {
          "output_type": "stream",
          "name": "stdout",
          "text": [
            "[test] Epoch: 95 ==== Loss: 0.38599 ==== Accuracy: 0.74560\n",
            "Epoch: 95 ==== learning rate: [9.576555974283876e-05]\n"
          ]
        },
        {
          "output_type": "stream",
          "name": "stderr",
          "text": [
            "100%|██████████| 94/94 [00:09<00:00, 10.28it/s]\n"
          ]
        },
        {
          "output_type": "stream",
          "name": "stdout",
          "text": [
            "[train] Epoch: 96 ==== Loss: 0.30689 ==== Accuracy: 0.83523\n"
          ]
        },
        {
          "output_type": "stream",
          "name": "stderr",
          "text": [
            "100%|██████████| 41/41 [00:03<00:00, 12.68it/s]\n"
          ]
        },
        {
          "output_type": "stream",
          "name": "stdout",
          "text": [
            "[test] Epoch: 96 ==== Loss: 0.38421 ==== Accuracy: 0.74693\n",
            "Epoch: 96 ==== learning rate: [6.133135145509998e-05]\n"
          ]
        },
        {
          "output_type": "stream",
          "name": "stderr",
          "text": [
            "100%|██████████| 94/94 [00:09<00:00, 10.15it/s]\n"
          ]
        },
        {
          "output_type": "stream",
          "name": "stdout",
          "text": [
            "[train] Epoch: 97 ==== Loss: 0.30387 ==== Accuracy: 0.83687\n"
          ]
        },
        {
          "output_type": "stream",
          "name": "stderr",
          "text": [
            "100%|██████████| 41/41 [00:03<00:00, 12.60it/s]\n"
          ]
        },
        {
          "output_type": "stream",
          "name": "stdout",
          "text": [
            "[test] Epoch: 97 ==== Loss: 0.38246 ==== Accuracy: 0.74826\n",
            "Epoch: 97 ==== learning rate: [3.4512289357949965e-05]\n"
          ]
        },
        {
          "output_type": "stream",
          "name": "stderr",
          "text": [
            "100%|██████████| 94/94 [00:09<00:00, 10.23it/s]\n"
          ]
        },
        {
          "output_type": "stream",
          "name": "stdout",
          "text": [
            "[train] Epoch: 98 ==== Loss: 0.30091 ==== Accuracy: 0.83847\n"
          ]
        },
        {
          "output_type": "stream",
          "name": "stderr",
          "text": [
            "100%|██████████| 41/41 [00:03<00:00, 12.70it/s]\n"
          ]
        },
        {
          "output_type": "stream",
          "name": "stdout",
          "text": [
            "[test] Epoch: 98 ==== Loss: 0.38075 ==== Accuracy: 0.74956\n",
            "Epoch: 98 ==== learning rate: [1.5349726501256596e-05]\n"
          ]
        },
        {
          "output_type": "stream",
          "name": "stderr",
          "text": [
            "100%|██████████| 94/94 [00:09<00:00, 10.14it/s]\n"
          ]
        },
        {
          "output_type": "stream",
          "name": "stdout",
          "text": [
            "[train] Epoch: 99 ==== Loss: 0.29801 ==== Accuracy: 0.84005\n"
          ]
        },
        {
          "output_type": "stream",
          "name": "stderr",
          "text": [
            "100%|██████████| 41/41 [00:03<00:00, 12.51it/s]\n"
          ]
        },
        {
          "output_type": "stream",
          "name": "stdout",
          "text": [
            "[test] Epoch: 99 ==== Loss: 0.37907 ==== Accuracy: 0.75084\n",
            "Epoch: 99 ==== learning rate: [3.87321016801582e-06]\n"
          ]
        },
        {
          "output_type": "stream",
          "name": "stderr",
          "text": [
            "100%|██████████| 94/94 [00:09<00:00, 10.16it/s]\n"
          ]
        },
        {
          "output_type": "stream",
          "name": "stdout",
          "text": [
            "[train] Epoch: 100 ==== Loss: 0.29516 ==== Accuracy: 0.84159\n"
          ]
        },
        {
          "output_type": "stream",
          "name": "stderr",
          "text": [
            "100%|██████████| 41/41 [00:03<00:00, 12.57it/s]"
          ]
        },
        {
          "output_type": "stream",
          "name": "stdout",
          "text": [
            "[test] Epoch: 100 ==== Loss: 0.37743 ==== Accuracy: 0.75209\n",
            "Epoch: 100 ==== learning rate: [1.0043631457778787e-07]\n"
          ]
        },
        {
          "output_type": "stream",
          "name": "stderr",
          "text": [
            "\n"
          ]
        }
      ]
    },
    {
      "cell_type": "code",
      "source": [
        "loss_track, acc_track = tracks['loss'], tracks['accuracy']\n",
        "\n",
        "fig, axes = plt.subplots(1, 3, constrained_layout=True, figsize=(12, 3))\n",
        "axes[0].plot(loss_track['train'], label='train')\n",
        "axes[0].plot(loss_track['test'], label='test')\n",
        "axes[0].set_title('Model loss')\n",
        "axes[0].legend()\n",
        "\n",
        "axes[1].plot(accuracy_track['train'], label='train')\n",
        "axes[1].plot(accuracy_track['test'], label='test')\n",
        "axes[1].set_title('Model accuracy')\n",
        "axes[1].legend()\n",
        "\n",
        "axes[2].plot(tracks['learning_rate'])\n",
        "axes[2].set_title('Learning rate')\n",
        "plt.show()"
      ],
      "metadata": {
        "colab": {
          "base_uri": "https://localhost:8080/",
          "height": 314
        },
        "id": "K2ZiSFKl_gX1",
        "outputId": "32c86d50-f3ae-46ab-f100-8b7aff3bad63"
      },
      "execution_count": 34,
      "outputs": [
        {
          "output_type": "display_data",
          "data": {
            "text/plain": [
              "<Figure size 1200x300 with 3 Axes>"
            ],
            "image/png": "[encoded data removed]"
          },
          "metadata": {}
        }
      ]
    },
    {
      "cell_type": "markdown",
      "source": [
        "По полученным графикам потерь видно, что к 100-ой эпохе потери на тестовом датасете практически не изменяются, а на тренировочном медленно убывают. Это означает, что если продолжать тренировку, то модель может переобучиться на тренировочном датасете и потери на тестовом начнут расти. Аналогичная ситуация и с точностью. Точность на тестовом датасете установилась на уровне 73%, на тренировочном еще растет. При установке других оптимизаторов и дольшей тренировке возможно получить настолько же точные результаты, как и у сверточной нейросети."
      ],
      "metadata": {
        "id": "cUI5XQ6vWgPa"
      }
    },
    {
      "cell_type": "markdown",
      "source": [
        "## Выводы\n",
        "\n",
        "Обе архитектуры нейронных сетей справляются с поставленной задачей. В случае со сверточной нейронной сетью точность достигает 91% на тренировочном датасете, с LSTM - порядка 75%. При этом если в сверточную нейросеть добавлять нормализацию и dropout, то скорость сходимости уменьшается. При параметре p=0.1 к 50-ой эпохе модели сходятся к одинаковым значениям loss и accuracy."
      ],
      "metadata": {
        "id": "NINDJgWBEa_k"
      }
    },
    {
      "cell_type": "code",
      "source": [],
      "metadata": {
        "id": "JH-9NCzZ_ltZ"
      },
      "execution_count": 34,
      "outputs": []
    }
  ]
}